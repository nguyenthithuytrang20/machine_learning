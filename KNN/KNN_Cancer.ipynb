{
 "cells": [
  {
   "cell_type": "markdown",
   "metadata": {},
   "source": [
    "# BÀI TẬP THỰC HÀNH CHƯƠNG 2\n",
    "---\n",
    "**Mô tả tập dữ liệu:**\n",
    "\n",
    "Tập dữ liệu Data_Practice.xlsx chứa dữ liệu của 961 bệnh nhân bị u vú. (chi tiết trong slide bài giảng)\n",
    "\n",
    "Mỗi bản ghi tương ứng với một bệnh nhân, Bao gồm 6 thuộc tính:\n",
    "1. PatienID: Thuộc tính cho biết mã số của bệnh nhân\n",
    "2. Age: Thuộc tính cho biết tuổi của bệnh nhân, dữ liệu số\n",
    "3. Shape: Thuộc tính cho biết hình dạng của khối u, bao gồm 4 giá trị: Round, Oval, Lobular, Irregular\n",
    "4. Margin: Thuộc tính cho biết dạng đường biên của khối u, bao gồm 5 giá trị: Circumscribed, Microlobulated, Obscured, ill-defined, Spiculated\n",
    "5. Density: Thuộc tính cho biết mật độ của khối u, bao gồm 4 giá trị: High, Iso, Low, Fat-containing\n",
    "6. Target: Thuộc tính cho biết khối u là lành tính (0) - hay ác tính (1)\n",
    "\n",
    "---\n",
    "**LƯU Ý: SINH VIÊN TẠO RA MỘT FILE JUPYTER NOTEBOOK RIÊNG, CHỈ CHỨA PHẦN BÀI TẬP CHƯƠNG 2, TRÌNH BÀY TƯƠNG TỰ NHƯ VÍ DỤ 01, 02 Ở TRÊN**"
   ]
  },
  {
   "cell_type": "markdown",
   "metadata": {},
   "source": [
    "**Yêu cầu 1:**\n",
    "Đọc tập dữ liệu Data_Practice4.xlsx vào biến DataFrame, hiển thị thông tin của biến, 5 bản ghi đầu tiên và thống kê dữ liệu; quan sát các vấn đề với dữ liệu\n"
   ]
  },
  {
   "cell_type": "code",
   "execution_count": 1,
   "metadata": {},
   "outputs": [],
   "source": [
    "#import các thư viện cần thiết\n",
    "import numpy as np\n",
    "import pandas as pd\n",
    "\n",
    "#Visualization\n",
    "import matplotlib.pyplot as plt\n",
    "import seaborn as sns\n",
    "%matplotlib inline\n",
    "\n",
    "#-------------------\n",
    "#Tắt lỗi không quan trọng\n",
    "import warnings\n",
    "warnings.filterwarnings('ignore')\n"
   ]
  },
  {
   "cell_type": "code",
   "execution_count": 2,
   "metadata": {},
   "outputs": [
    {
     "data": {
      "text/html": [
       "<div>\n",
       "<style scoped>\n",
       "    .dataframe tbody tr th:only-of-type {\n",
       "        vertical-align: middle;\n",
       "    }\n",
       "\n",
       "    .dataframe tbody tr th {\n",
       "        vertical-align: top;\n",
       "    }\n",
       "\n",
       "    .dataframe thead th {\n",
       "        text-align: right;\n",
       "    }\n",
       "</style>\n",
       "<table border=\"1\" class=\"dataframe\">\n",
       "  <thead>\n",
       "    <tr style=\"text-align: right;\">\n",
       "      <th></th>\n",
       "      <th>PatientID</th>\n",
       "      <th>Age</th>\n",
       "      <th>Shape</th>\n",
       "      <th>Margin</th>\n",
       "      <th>Density</th>\n",
       "      <th>Target</th>\n",
       "    </tr>\n",
       "  </thead>\n",
       "  <tbody>\n",
       "    <tr>\n",
       "      <th>0</th>\n",
       "      <td>P1</td>\n",
       "      <td>67.0</td>\n",
       "      <td>Lobular</td>\n",
       "      <td>Spiculated</td>\n",
       "      <td>Low</td>\n",
       "      <td>1</td>\n",
       "    </tr>\n",
       "    <tr>\n",
       "      <th>1</th>\n",
       "      <td>P2</td>\n",
       "      <td>43.0</td>\n",
       "      <td>Round</td>\n",
       "      <td>Circumscribed</td>\n",
       "      <td>NaN</td>\n",
       "      <td>1</td>\n",
       "    </tr>\n",
       "    <tr>\n",
       "      <th>2</th>\n",
       "      <td>P3</td>\n",
       "      <td>58.0</td>\n",
       "      <td>Irregular</td>\n",
       "      <td>Spiculated</td>\n",
       "      <td>Low</td>\n",
       "      <td>1</td>\n",
       "    </tr>\n",
       "    <tr>\n",
       "      <th>3</th>\n",
       "      <td>P4</td>\n",
       "      <td>28.0</td>\n",
       "      <td>Round</td>\n",
       "      <td>Circumscribed</td>\n",
       "      <td>Low</td>\n",
       "      <td>0</td>\n",
       "    </tr>\n",
       "    <tr>\n",
       "      <th>4</th>\n",
       "      <td>P5</td>\n",
       "      <td>74.0</td>\n",
       "      <td>Round</td>\n",
       "      <td>Spiculated</td>\n",
       "      <td>NaN</td>\n",
       "      <td>1</td>\n",
       "    </tr>\n",
       "  </tbody>\n",
       "</table>\n",
       "</div>"
      ],
      "text/plain": [
       "  PatientID   Age      Shape         Margin Density  Target\n",
       "0        P1  67.0    Lobular     Spiculated     Low       1\n",
       "1        P2  43.0      Round  Circumscribed     NaN       1\n",
       "2        P3  58.0  Irregular     Spiculated     Low       1\n",
       "3        P4  28.0      Round  Circumscribed     Low       0\n",
       "4        P5  74.0      Round     Spiculated     NaN       1"
      ]
     },
     "execution_count": 2,
     "metadata": {},
     "output_type": "execute_result"
    }
   ],
   "source": [
    "#Đọc dữ liệu từ file\n",
    "df_practice = pd.read_excel(\"Data/Data_Practice.xlsx\")\n",
    "                           #index_col=0)\n",
    "\n",
    "#Hiển thị 5 dòng dữ liệu đầu tiên\n",
    "df_practice.head()"
   ]
  },
  {
   "cell_type": "code",
   "execution_count": 3,
   "metadata": {},
   "outputs": [
    {
     "data": {
      "text/html": [
       "<div>\n",
       "<style scoped>\n",
       "    .dataframe tbody tr th:only-of-type {\n",
       "        vertical-align: middle;\n",
       "    }\n",
       "\n",
       "    .dataframe tbody tr th {\n",
       "        vertical-align: top;\n",
       "    }\n",
       "\n",
       "    .dataframe thead th {\n",
       "        text-align: right;\n",
       "    }\n",
       "</style>\n",
       "<table border=\"1\" class=\"dataframe\">\n",
       "  <thead>\n",
       "    <tr style=\"text-align: right;\">\n",
       "      <th></th>\n",
       "      <th>PatientID</th>\n",
       "      <th>Age</th>\n",
       "      <th>Shape</th>\n",
       "      <th>Margin</th>\n",
       "      <th>Density</th>\n",
       "      <th>Target</th>\n",
       "    </tr>\n",
       "  </thead>\n",
       "  <tbody>\n",
       "    <tr>\n",
       "      <th>658</th>\n",
       "      <td>P659</td>\n",
       "      <td>40.0</td>\n",
       "      <td>Round</td>\n",
       "      <td>Circumscribed</td>\n",
       "      <td>Low</td>\n",
       "      <td>0</td>\n",
       "    </tr>\n",
       "    <tr>\n",
       "      <th>114</th>\n",
       "      <td>P115</td>\n",
       "      <td>40.0</td>\n",
       "      <td>Lobular</td>\n",
       "      <td>ill-defined</td>\n",
       "      <td>NaN</td>\n",
       "      <td>0</td>\n",
       "    </tr>\n",
       "    <tr>\n",
       "      <th>796</th>\n",
       "      <td>P797</td>\n",
       "      <td>58.0</td>\n",
       "      <td>Irregular</td>\n",
       "      <td>ill-defined</td>\n",
       "      <td>Iso</td>\n",
       "      <td>1</td>\n",
       "    </tr>\n",
       "    <tr>\n",
       "      <th>590</th>\n",
       "      <td>P591</td>\n",
       "      <td>59.0</td>\n",
       "      <td>Irregular</td>\n",
       "      <td>Microlobulated</td>\n",
       "      <td>Low</td>\n",
       "      <td>0</td>\n",
       "    </tr>\n",
       "    <tr>\n",
       "      <th>439</th>\n",
       "      <td>P440</td>\n",
       "      <td>46.0</td>\n",
       "      <td>Irregular</td>\n",
       "      <td>Obscured</td>\n",
       "      <td>Low</td>\n",
       "      <td>1</td>\n",
       "    </tr>\n",
       "  </tbody>\n",
       "</table>\n",
       "</div>"
      ],
      "text/plain": [
       "    PatientID   Age      Shape          Margin Density  Target\n",
       "658      P659  40.0      Round   Circumscribed     Low       0\n",
       "114      P115  40.0    Lobular     ill-defined     NaN       0\n",
       "796      P797  58.0  Irregular     ill-defined     Iso       1\n",
       "590      P591  59.0  Irregular  Microlobulated     Low       0\n",
       "439      P440  46.0  Irregular        Obscured     Low       1"
      ]
     },
     "execution_count": 3,
     "metadata": {},
     "output_type": "execute_result"
    }
   ],
   "source": [
    "df_practice.sample(5)"
   ]
  },
  {
   "cell_type": "code",
   "execution_count": 4,
   "metadata": {},
   "outputs": [
    {
     "name": "stdout",
     "output_type": "stream",
     "text": [
      "<class 'pandas.core.frame.DataFrame'>\n",
      "RangeIndex: 961 entries, 0 to 960\n",
      "Data columns (total 6 columns):\n",
      " #   Column     Non-Null Count  Dtype  \n",
      "---  ------     --------------  -----  \n",
      " 0   PatientID  961 non-null    object \n",
      " 1   Age        956 non-null    float64\n",
      " 2   Shape      930 non-null    object \n",
      " 3   Margin     913 non-null    object \n",
      " 4   Density    885 non-null    object \n",
      " 5   Target     961 non-null    int64  \n",
      "dtypes: float64(1), int64(1), object(4)\n",
      "memory usage: 45.2+ KB\n"
     ]
    }
   ],
   "source": [
    "df_practice.info()"
   ]
  },
  {
   "cell_type": "code",
   "execution_count": 5,
   "metadata": {},
   "outputs": [
    {
     "data": {
      "text/plain": [
       "PatientID     0\n",
       "Age           5\n",
       "Shape        31\n",
       "Margin       48\n",
       "Density      76\n",
       "Target        0\n",
       "dtype: int64"
      ]
     },
     "execution_count": 5,
     "metadata": {},
     "output_type": "execute_result"
    }
   ],
   "source": [
    "#Số lượng bị missing có trong các cột\n",
    "df_practice.isnull().sum()"
   ]
  },
  {
   "cell_type": "markdown",
   "metadata": {},
   "source": [
    "- Cột Age bị missing 5 giá trị\n",
    "- Cột Shape bị missing 31 giá trị\n",
    "- Cột Margin bị missing 48 giá trị\n",
    "- Cột Density bị missing 76 giá trị"
   ]
  },
  {
   "cell_type": "code",
   "execution_count": 6,
   "metadata": {},
   "outputs": [
    {
     "data": {
      "text/html": [
       "<div>\n",
       "<style scoped>\n",
       "    .dataframe tbody tr th:only-of-type {\n",
       "        vertical-align: middle;\n",
       "    }\n",
       "\n",
       "    .dataframe tbody tr th {\n",
       "        vertical-align: top;\n",
       "    }\n",
       "\n",
       "    .dataframe thead th {\n",
       "        text-align: right;\n",
       "    }\n",
       "</style>\n",
       "<table border=\"1\" class=\"dataframe\">\n",
       "  <thead>\n",
       "    <tr style=\"text-align: right;\">\n",
       "      <th></th>\n",
       "      <th>Age</th>\n",
       "      <th>Target</th>\n",
       "    </tr>\n",
       "  </thead>\n",
       "  <tbody>\n",
       "    <tr>\n",
       "      <th>count</th>\n",
       "      <td>956.000000</td>\n",
       "      <td>961.000000</td>\n",
       "    </tr>\n",
       "    <tr>\n",
       "      <th>mean</th>\n",
       "      <td>56.306485</td>\n",
       "      <td>0.463059</td>\n",
       "    </tr>\n",
       "    <tr>\n",
       "      <th>std</th>\n",
       "      <td>30.044212</td>\n",
       "      <td>0.498893</td>\n",
       "    </tr>\n",
       "    <tr>\n",
       "      <th>min</th>\n",
       "      <td>18.000000</td>\n",
       "      <td>0.000000</td>\n",
       "    </tr>\n",
       "    <tr>\n",
       "      <th>25%</th>\n",
       "      <td>45.000000</td>\n",
       "      <td>0.000000</td>\n",
       "    </tr>\n",
       "    <tr>\n",
       "      <th>50%</th>\n",
       "      <td>57.000000</td>\n",
       "      <td>0.000000</td>\n",
       "    </tr>\n",
       "    <tr>\n",
       "      <th>75%</th>\n",
       "      <td>66.000000</td>\n",
       "      <td>1.000000</td>\n",
       "    </tr>\n",
       "    <tr>\n",
       "      <th>max</th>\n",
       "      <td>870.000000</td>\n",
       "      <td>1.000000</td>\n",
       "    </tr>\n",
       "  </tbody>\n",
       "</table>\n",
       "</div>"
      ],
      "text/plain": [
       "              Age      Target\n",
       "count  956.000000  961.000000\n",
       "mean    56.306485    0.463059\n",
       "std     30.044212    0.498893\n",
       "min     18.000000    0.000000\n",
       "25%     45.000000    0.000000\n",
       "50%     57.000000    0.000000\n",
       "75%     66.000000    1.000000\n",
       "max    870.000000    1.000000"
      ]
     },
     "execution_count": 6,
     "metadata": {},
     "output_type": "execute_result"
    }
   ],
   "source": [
    "df_practice.describe()"
   ]
  },
  {
   "cell_type": "code",
   "execution_count": 7,
   "metadata": {},
   "outputs": [
    {
     "data": {
      "text/html": [
       "<div>\n",
       "<style scoped>\n",
       "    .dataframe tbody tr th:only-of-type {\n",
       "        vertical-align: middle;\n",
       "    }\n",
       "\n",
       "    .dataframe tbody tr th {\n",
       "        vertical-align: top;\n",
       "    }\n",
       "\n",
       "    .dataframe thead th {\n",
       "        text-align: right;\n",
       "    }\n",
       "</style>\n",
       "<table border=\"1\" class=\"dataframe\">\n",
       "  <thead>\n",
       "    <tr style=\"text-align: right;\">\n",
       "      <th></th>\n",
       "      <th>PatientID</th>\n",
       "      <th>Shape</th>\n",
       "      <th>Margin</th>\n",
       "      <th>Density</th>\n",
       "    </tr>\n",
       "  </thead>\n",
       "  <tbody>\n",
       "    <tr>\n",
       "      <th>count</th>\n",
       "      <td>961</td>\n",
       "      <td>930</td>\n",
       "      <td>913</td>\n",
       "      <td>885</td>\n",
       "    </tr>\n",
       "    <tr>\n",
       "      <th>unique</th>\n",
       "      <td>961</td>\n",
       "      <td>5</td>\n",
       "      <td>6</td>\n",
       "      <td>5</td>\n",
       "    </tr>\n",
       "    <tr>\n",
       "      <th>top</th>\n",
       "      <td>P1</td>\n",
       "      <td>Irregular</td>\n",
       "      <td>Circumscribed</td>\n",
       "      <td>Low</td>\n",
       "    </tr>\n",
       "    <tr>\n",
       "      <th>freq</th>\n",
       "      <td>1</td>\n",
       "      <td>399</td>\n",
       "      <td>357</td>\n",
       "      <td>797</td>\n",
       "    </tr>\n",
       "  </tbody>\n",
       "</table>\n",
       "</div>"
      ],
      "text/plain": [
       "       PatientID      Shape         Margin Density\n",
       "count        961        930            913     885\n",
       "unique       961          5              6       5\n",
       "top           P1  Irregular  Circumscribed     Low\n",
       "freq           1        399            357     797"
      ]
     },
     "execution_count": 7,
     "metadata": {},
     "output_type": "execute_result"
    }
   ],
   "source": [
    "#Dữ liệu \n",
    "df_practice.describe(include='O')"
   ]
  },
  {
   "cell_type": "markdown",
   "metadata": {},
   "source": [
    "**Yêu cầu 2:**\n",
    "Thông kê dữ liệu missing cho từng thuộc tính, và liệt kê ra các bản ghi bị missing tương ứng với thuộc tính đó; suy nghĩ phương án xử lý phù hợp"
   ]
  },
  {
   "cell_type": "code",
   "execution_count": 8,
   "metadata": {},
   "outputs": [],
   "source": [
    "#Hàm tính số lượng missing data\n",
    "def percent_missing_value(df):\n",
    "    miss_data = df.isnull().sum()#Tính số lượng missing\n",
    "    miss_data_percent = miss_data*100/len(df)#Tính % missing\n",
    "    miss_data_table = pd.concat([miss_data,miss_data_percent],axis=1) #Ghép 2 cột dữ liệu với nhau thành bảng\n",
    "    miss_data_table = miss_data_table.rename(columns = {0:\"Số giá trị missing\", 1:\"Tỷ lệ % missing\"})#Đặt tên cho cột\n",
    "    miss_data_table = miss_data_table[miss_data_table.iloc[:,1]!=0].sort_values('Tỷ lệ % missing', ascending=False).round(2)#Sắp xếp các thuộc tính bị missing trong cột tỷ lệ % missing theo thứ tự giảm dần\n",
    "    print(\"Dữ liệu bao gồm \"+str(df.shape[1])+\" cột.\\n\\r Có \"+str(miss_data_table.shape[0])+\" cột bị missing dữ liệu\")\n",
    "    return miss_data_table"
   ]
  },
  {
   "cell_type": "code",
   "execution_count": 9,
   "metadata": {},
   "outputs": [
    {
     "name": "stdout",
     "output_type": "stream",
     "text": [
      "Số lượng missing data trong tập dữ liệu:\n",
      "Dữ liệu bao gồm 6 cột.\n",
      "\r",
      " Có 4 cột bị missing dữ liệu\n"
     ]
    },
    {
     "data": {
      "text/html": [
       "<div>\n",
       "<style scoped>\n",
       "    .dataframe tbody tr th:only-of-type {\n",
       "        vertical-align: middle;\n",
       "    }\n",
       "\n",
       "    .dataframe tbody tr th {\n",
       "        vertical-align: top;\n",
       "    }\n",
       "\n",
       "    .dataframe thead th {\n",
       "        text-align: right;\n",
       "    }\n",
       "</style>\n",
       "<table border=\"1\" class=\"dataframe\">\n",
       "  <thead>\n",
       "    <tr style=\"text-align: right;\">\n",
       "      <th></th>\n",
       "      <th>Số giá trị missing</th>\n",
       "      <th>Tỷ lệ % missing</th>\n",
       "    </tr>\n",
       "  </thead>\n",
       "  <tbody>\n",
       "    <tr>\n",
       "      <th>Density</th>\n",
       "      <td>76</td>\n",
       "      <td>7.91</td>\n",
       "    </tr>\n",
       "    <tr>\n",
       "      <th>Margin</th>\n",
       "      <td>48</td>\n",
       "      <td>4.99</td>\n",
       "    </tr>\n",
       "    <tr>\n",
       "      <th>Shape</th>\n",
       "      <td>31</td>\n",
       "      <td>3.23</td>\n",
       "    </tr>\n",
       "    <tr>\n",
       "      <th>Age</th>\n",
       "      <td>5</td>\n",
       "      <td>0.52</td>\n",
       "    </tr>\n",
       "  </tbody>\n",
       "</table>\n",
       "</div>"
      ],
      "text/plain": [
       "         Số giá trị missing  Tỷ lệ % missing\n",
       "Density                  76             7.91\n",
       "Margin                   48             4.99\n",
       "Shape                    31             3.23\n",
       "Age                       5             0.52"
      ]
     },
     "execution_count": 9,
     "metadata": {},
     "output_type": "execute_result"
    }
   ],
   "source": [
    "print(\"Số lượng missing data trong tập dữ liệu:\")\n",
    "percent_missing_value(df_practice)"
   ]
  },
  {
   "cell_type": "code",
   "execution_count": null,
   "metadata": {},
   "outputs": [],
   "source": []
  },
  {
   "cell_type": "code",
   "execution_count": 10,
   "metadata": {},
   "outputs": [
    {
     "data": {
      "text/html": [
       "<div>\n",
       "<style scoped>\n",
       "    .dataframe tbody tr th:only-of-type {\n",
       "        vertical-align: middle;\n",
       "    }\n",
       "\n",
       "    .dataframe tbody tr th {\n",
       "        vertical-align: top;\n",
       "    }\n",
       "\n",
       "    .dataframe thead th {\n",
       "        text-align: right;\n",
       "    }\n",
       "</style>\n",
       "<table border=\"1\" class=\"dataframe\">\n",
       "  <thead>\n",
       "    <tr style=\"text-align: right;\">\n",
       "      <th></th>\n",
       "      <th>PatientID</th>\n",
       "      <th>Age</th>\n",
       "      <th>Shape</th>\n",
       "      <th>Margin</th>\n",
       "      <th>Density</th>\n",
       "      <th>Target</th>\n",
       "    </tr>\n",
       "  </thead>\n",
       "  <tbody>\n",
       "    <tr>\n",
       "      <th>165</th>\n",
       "      <td>P166</td>\n",
       "      <td>870.0</td>\n",
       "      <td>Irregular</td>\n",
       "      <td>Spiculated</td>\n",
       "      <td>Low</td>\n",
       "      <td>1</td>\n",
       "    </tr>\n",
       "  </tbody>\n",
       "</table>\n",
       "</div>"
      ],
      "text/plain": [
       "    PatientID    Age      Shape      Margin Density  Target\n",
       "165      P166  870.0  Irregular  Spiculated     Low       1"
      ]
     },
     "execution_count": 10,
     "metadata": {},
     "output_type": "execute_result"
    }
   ],
   "source": [
    "#Hiển thị các giá trị ngoại lai trong trường Age\n",
    "df_practice[df_practice[\"Age\"]>=100]"
   ]
  },
  {
   "cell_type": "code",
   "execution_count": 11,
   "metadata": {},
   "outputs": [
    {
     "data": {
      "text/html": [
       "<div>\n",
       "<style scoped>\n",
       "    .dataframe tbody tr th:only-of-type {\n",
       "        vertical-align: middle;\n",
       "    }\n",
       "\n",
       "    .dataframe tbody tr th {\n",
       "        vertical-align: top;\n",
       "    }\n",
       "\n",
       "    .dataframe thead th {\n",
       "        text-align: right;\n",
       "    }\n",
       "</style>\n",
       "<table border=\"1\" class=\"dataframe\">\n",
       "  <thead>\n",
       "    <tr style=\"text-align: right;\">\n",
       "      <th></th>\n",
       "      <th>PatientID</th>\n",
       "      <th>Age</th>\n",
       "      <th>Shape</th>\n",
       "      <th>Margin</th>\n",
       "      <th>Density</th>\n",
       "      <th>Target</th>\n",
       "    </tr>\n",
       "  </thead>\n",
       "  <tbody>\n",
       "    <tr>\n",
       "      <th>443</th>\n",
       "      <td>P444</td>\n",
       "      <td>NaN</td>\n",
       "      <td>Irregular</td>\n",
       "      <td>Spiculated</td>\n",
       "      <td>Low</td>\n",
       "      <td>1</td>\n",
       "    </tr>\n",
       "    <tr>\n",
       "      <th>453</th>\n",
       "      <td>P454</td>\n",
       "      <td>NaN</td>\n",
       "      <td>Irregular</td>\n",
       "      <td>ill-defined</td>\n",
       "      <td>Low</td>\n",
       "      <td>1</td>\n",
       "    </tr>\n",
       "    <tr>\n",
       "      <th>683</th>\n",
       "      <td>P684</td>\n",
       "      <td>NaN</td>\n",
       "      <td>Lobular</td>\n",
       "      <td>Obscured</td>\n",
       "      <td>Low</td>\n",
       "      <td>1</td>\n",
       "    </tr>\n",
       "    <tr>\n",
       "      <th>884</th>\n",
       "      <td>P885</td>\n",
       "      <td>NaN</td>\n",
       "      <td>Irregular</td>\n",
       "      <td>ill-defined</td>\n",
       "      <td>Low</td>\n",
       "      <td>1</td>\n",
       "    </tr>\n",
       "    <tr>\n",
       "      <th>923</th>\n",
       "      <td>P924</td>\n",
       "      <td>NaN</td>\n",
       "      <td>Irregular</td>\n",
       "      <td>Obscured</td>\n",
       "      <td>Low</td>\n",
       "      <td>1</td>\n",
       "    </tr>\n",
       "  </tbody>\n",
       "</table>\n",
       "</div>"
      ],
      "text/plain": [
       "    PatientID  Age      Shape       Margin Density  Target\n",
       "443      P444  NaN  Irregular   Spiculated     Low       1\n",
       "453      P454  NaN  Irregular  ill-defined     Low       1\n",
       "683      P684  NaN    Lobular     Obscured     Low       1\n",
       "884      P885  NaN  Irregular  ill-defined     Low       1\n",
       "923      P924  NaN  Irregular     Obscured     Low       1"
      ]
     },
     "execution_count": 11,
     "metadata": {},
     "output_type": "execute_result"
    }
   ],
   "source": [
    "#Hiển thị các hàng chứa giá trị null trong trường Age\n",
    "df_practice.loc[df_practice[\"Age\"].isnull()]"
   ]
  },
  {
   "cell_type": "code",
   "execution_count": 12,
   "metadata": {},
   "outputs": [
    {
     "data": {
      "text/plain": [
       "Irregular    399\n",
       "Round        224\n",
       "Oval         211\n",
       "Lobular       95\n",
       "IRREGULAR      1\n",
       "Name: Shape, dtype: int64"
      ]
     },
     "execution_count": 12,
     "metadata": {},
     "output_type": "execute_result"
    }
   ],
   "source": [
    "#Thống kê các giá trị có trong Shape\n",
    "df_practice['Shape'].value_counts()\n"
   ]
  },
  {
   "cell_type": "markdown",
   "metadata": {},
   "source": [
    "- Giá trị IRREGULAR bị lặp lại nhưng được tính là một giá trị khác"
   ]
  },
  {
   "cell_type": "code",
   "execution_count": 13,
   "metadata": {},
   "outputs": [
    {
     "data": {
      "text/plain": [
       "Irregular    400\n",
       "Round        224\n",
       "Oval         211\n",
       "Lobular       95\n",
       "Name: Shape, dtype: int64"
      ]
     },
     "execution_count": 13,
     "metadata": {},
     "output_type": "execute_result"
    }
   ],
   "source": [
    "#Xử lý ngoại lai của trường Shape\n",
    "df_practice['Shape'].replace({\"IRREGULAR\":'Irregular'}, inplace=True)\n",
    "df_practice['Shape'].value_counts()"
   ]
  },
  {
   "cell_type": "code",
   "execution_count": 14,
   "metadata": {},
   "outputs": [
    {
     "data": {
      "text/plain": [
       "Circumscribed     357\n",
       "ill-defined       280\n",
       "Spiculated        135\n",
       "Obscured          116\n",
       "Microlobulated     24\n",
       "SPICULATED          1\n",
       "Name: Margin, dtype: int64"
      ]
     },
     "execution_count": 14,
     "metadata": {},
     "output_type": "execute_result"
    }
   ],
   "source": [
    "#Thống kê các giá trị có trong Margin\n",
    "df_practice[\"Margin\"].value_counts()\n"
   ]
  },
  {
   "cell_type": "markdown",
   "metadata": {},
   "source": [
    "- Giá trị SPICULATED  bị lặp lại nhưng được tính là một giá trị khác"
   ]
  },
  {
   "cell_type": "code",
   "execution_count": 15,
   "metadata": {},
   "outputs": [
    {
     "data": {
      "text/plain": [
       "Circumscribed     357\n",
       "ill-defined       280\n",
       "Spiculated        136\n",
       "Obscured          116\n",
       "Microlobulated     24\n",
       "Name: Margin, dtype: int64"
      ]
     },
     "execution_count": 15,
     "metadata": {},
     "output_type": "execute_result"
    }
   ],
   "source": [
    "#Xử lý ngoại lai của trường Margin\n",
    "df_practice['Margin'].replace({\"SPICULATED\":'Spiculated'}, inplace=True)\n",
    "df_practice['Margin'].value_counts()"
   ]
  },
  {
   "cell_type": "code",
   "execution_count": 16,
   "metadata": {},
   "outputs": [
    {
     "data": {
      "text/plain": [
       "Low               797\n",
       "Iso                59\n",
       "High               16\n",
       "Fat-containing     12\n",
       "LOW                 1\n",
       "Name: Density, dtype: int64"
      ]
     },
     "execution_count": 16,
     "metadata": {},
     "output_type": "execute_result"
    }
   ],
   "source": [
    "#Thống kê các giá trị có trong Density\n",
    "df_practice[\"Density\"].value_counts()"
   ]
  },
  {
   "cell_type": "markdown",
   "metadata": {},
   "source": [
    "- Giá trị LOW bị lặp lại nhưng được tính là một giá trị khác"
   ]
  },
  {
   "cell_type": "code",
   "execution_count": 17,
   "metadata": {},
   "outputs": [
    {
     "data": {
      "text/plain": [
       "Low               798\n",
       "Iso                59\n",
       "High               16\n",
       "Fat-containing     12\n",
       "Name: Density, dtype: int64"
      ]
     },
     "execution_count": 17,
     "metadata": {},
     "output_type": "execute_result"
    }
   ],
   "source": [
    "#Xử lý ngoại lai của trường Shape\n",
    "df_practice['Density'].replace({\"LOW\":'Low'}, inplace=True)\n",
    "df_practice['Density'].value_counts()"
   ]
  },
  {
   "cell_type": "code",
   "execution_count": null,
   "metadata": {},
   "outputs": [],
   "source": []
  },
  {
   "cell_type": "markdown",
   "metadata": {},
   "source": [
    "**Yêu cầu 3:** Phân tích, thống kê - xác định mức độ ảnh hưởng của các thuộc tính độc lập [Age, Shape, Margin, Density] tới thuộc tính phụ thuộc [Target] "
   ]
  },
  {
   "cell_type": "markdown",
   "metadata": {},
   "source": [
    "### Phân tích các thuộc tính quan trọng ảnh hưởng đến khả năng sống/chết (survived) của hành khách:\n",
    "---\n",
    "Mỗi một hành khách bao gồm thuộc tính (tương ứng với 5 cột dữ liệu)\n",
    "\n",
    "\n",
    "\n",
    "\n",
    "\n"
   ]
  },
  {
   "cell_type": "markdown",
   "metadata": {},
   "source": [
    "#### a)Thuộc tính tuổi - Age:\n",
    "---\n",
    "Age: Thuộc tính cho biết tuổi của bệnh nhân, dữ liệu số"
   ]
  },
  {
   "cell_type": "code",
   "execution_count": 18,
   "metadata": {},
   "outputs": [],
   "source": [
    "#Xử lý giá trị ngoại lai\n",
    "df_practice[\"Age\"].replace({870:87}, inplace=True)"
   ]
  },
  {
   "cell_type": "code",
   "execution_count": 19,
   "metadata": {},
   "outputs": [
    {
     "data": {
      "image/png": "[encoded data removed]",
      "text/plain": [
       "<Figure size 640x480 with 1 Axes>"
      ]
     },
     "metadata": {},
     "output_type": "display_data"
    }
   ],
   "source": [
    "#Biểu đồ thể hiện sự phân bố các tuổi trong tập dữ liệu\n",
    "plt.hist(df_practice.Age, bins=45)\n",
    "plt.show();"
   ]
  },
  {
   "cell_type": "code",
   "execution_count": 20,
   "metadata": {},
   "outputs": [
    {
     "data": {
      "image/png": "[encoded data removed]",
      "text/plain": [
       "<Figure size 600x300 with 2 Axes>"
      ]
     },
     "metadata": {},
     "output_type": "display_data"
    }
   ],
   "source": [
    "#Thống kê số lượng bệnh nhân bị ung thư/ không bị ung thư theo tuổi\n",
    "target_age = sns.FacetGrid(df_practice, col=\"Target\")\n",
    "target_age.map(plt.hist, \"Age\", bins=50)\n",
    "plt.show()"
   ]
  },
  {
   "cell_type": "markdown",
   "metadata": {},
   "source": [
    "Quan sát dữ liệu Tuổi:\n",
    "* Hầu hết các bệnh nhân đi khám trong độ tuổi từ 40 - 70 tuổi\n",
    "* Độ tuổi từ 50 - 70 tuổi có tỷ lệ mắc bệnh cao hơn\n",
    "* Độ tuổi <30 tuổi và >80 tuổi có tỷ lệ mắc bệnh thấp hơn\n",
    "---\n",
    "**Nhận xét**\n",
    "* Thuộc tính tuổi có ảnh hưởng tới khả năng bị bệnh của bệnh nhân\n",
    "\n"
   ]
  },
  {
   "cell_type": "markdown",
   "metadata": {},
   "source": [
    "#### b) Thuộc tính Shape\n",
    "---\n",
    "Shape: Thuộc tính cho biết hình dạng của khối u, bao gồm 4 giá trị: Round, Oval, Lobular, Irregular"
   ]
  },
  {
   "cell_type": "code",
   "execution_count": 21,
   "metadata": {},
   "outputs": [
    {
     "data": {
      "text/html": [
       "<div>\n",
       "<style scoped>\n",
       "    .dataframe tbody tr th:only-of-type {\n",
       "        vertical-align: middle;\n",
       "    }\n",
       "\n",
       "    .dataframe tbody tr th {\n",
       "        vertical-align: top;\n",
       "    }\n",
       "\n",
       "    .dataframe thead th {\n",
       "        text-align: right;\n",
       "    }\n",
       "</style>\n",
       "<table border=\"1\" class=\"dataframe\">\n",
       "  <thead>\n",
       "    <tr style=\"text-align: right;\">\n",
       "      <th></th>\n",
       "      <th>Shape</th>\n",
       "      <th>Target</th>\n",
       "    </tr>\n",
       "  </thead>\n",
       "  <tbody>\n",
       "    <tr>\n",
       "      <th>0</th>\n",
       "      <td>Irregular</td>\n",
       "      <td>0.787500</td>\n",
       "    </tr>\n",
       "    <tr>\n",
       "      <th>1</th>\n",
       "      <td>Lobular</td>\n",
       "      <td>0.473684</td>\n",
       "    </tr>\n",
       "    <tr>\n",
       "      <th>3</th>\n",
       "      <td>Round</td>\n",
       "      <td>0.169643</td>\n",
       "    </tr>\n",
       "    <tr>\n",
       "      <th>2</th>\n",
       "      <td>Oval</td>\n",
       "      <td>0.165877</td>\n",
       "    </tr>\n",
       "  </tbody>\n",
       "</table>\n",
       "</div>"
      ],
      "text/plain": [
       "       Shape    Target\n",
       "0  Irregular  0.787500\n",
       "1    Lobular  0.473684\n",
       "3      Round  0.169643\n",
       "2       Oval  0.165877"
      ]
     },
     "execution_count": 21,
     "metadata": {},
     "output_type": "execute_result"
    }
   ],
   "source": [
    "df_practice[[\"Shape\",\"Target\"]].groupby(['Shape'], as_index=False).mean().sort_values(by='Target', ascending=False)"
   ]
  },
  {
   "cell_type": "markdown",
   "metadata": {},
   "source": [
    "Thuộc tính Shape có ảnh hưởng đến kết quả chuẩn đoán loại u. Các bệnh nhân có khối u hình dạng Irregular(k cụ thể) có khả năng cao là u ác tính"
   ]
  },
  {
   "cell_type": "markdown",
   "metadata": {},
   "source": [
    "#### c) Thuộc tính Margin\n",
    "---\n",
    "Margin: Thuộc tính cho biết dạng đường biên của khối u, bao gồm 5 giá trị: Circumscribed,\n",
    "Microlobulated, Obscured, ill-defined, Spiculated"
   ]
  },
  {
   "cell_type": "code",
   "execution_count": 22,
   "metadata": {},
   "outputs": [
    {
     "data": {
      "text/html": [
       "<div>\n",
       "<style scoped>\n",
       "    .dataframe tbody tr th:only-of-type {\n",
       "        vertical-align: middle;\n",
       "    }\n",
       "\n",
       "    .dataframe tbody tr th {\n",
       "        vertical-align: top;\n",
       "    }\n",
       "\n",
       "    .dataframe thead th {\n",
       "        text-align: right;\n",
       "    }\n",
       "</style>\n",
       "<table border=\"1\" class=\"dataframe\">\n",
       "  <thead>\n",
       "    <tr style=\"text-align: right;\">\n",
       "      <th></th>\n",
       "      <th>Margin</th>\n",
       "      <th>Target</th>\n",
       "    </tr>\n",
       "  </thead>\n",
       "  <tbody>\n",
       "    <tr>\n",
       "      <th>3</th>\n",
       "      <td>Spiculated</td>\n",
       "      <td>0.838235</td>\n",
       "    </tr>\n",
       "    <tr>\n",
       "      <th>4</th>\n",
       "      <td>ill-defined</td>\n",
       "      <td>0.682143</td>\n",
       "    </tr>\n",
       "    <tr>\n",
       "      <th>2</th>\n",
       "      <td>Obscured</td>\n",
       "      <td>0.629310</td>\n",
       "    </tr>\n",
       "    <tr>\n",
       "      <th>1</th>\n",
       "      <td>Microlobulated</td>\n",
       "      <td>0.625000</td>\n",
       "    </tr>\n",
       "    <tr>\n",
       "      <th>0</th>\n",
       "      <td>Circumscribed</td>\n",
       "      <td>0.114846</td>\n",
       "    </tr>\n",
       "  </tbody>\n",
       "</table>\n",
       "</div>"
      ],
      "text/plain": [
       "           Margin    Target\n",
       "3      Spiculated  0.838235\n",
       "4     ill-defined  0.682143\n",
       "2        Obscured  0.629310\n",
       "1  Microlobulated  0.625000\n",
       "0   Circumscribed  0.114846"
      ]
     },
     "execution_count": 22,
     "metadata": {},
     "output_type": "execute_result"
    }
   ],
   "source": [
    "df_practice[[\"Margin\",\"Target\"]].groupby(['Margin'],as_index=False).mean().sort_values(by='Target', ascending=False)"
   ]
  },
  {
   "cell_type": "markdown",
   "metadata": {},
   "source": [
    "Thuộc tính Margin có ảnh lớn tới việc chuẩn đoán u ác tính. Thuộc tính Margin là Spiculated(có gai) có khả năng là u ác tính cao hơn so với các khối u có viền khác."
   ]
  },
  {
   "cell_type": "markdown",
   "metadata": {},
   "source": [
    "#### d) Thuộc tính Density\n",
    "---\n",
    "Density: Thuộc tính cho biết mật độ của khối u, bao gồm 4 giá trị: High, Iso, Low, Fatcontaining"
   ]
  },
  {
   "cell_type": "code",
   "execution_count": 23,
   "metadata": {},
   "outputs": [
    {
     "data": {
      "text/html": [
       "<div>\n",
       "<style scoped>\n",
       "    .dataframe tbody tr th:only-of-type {\n",
       "        vertical-align: middle;\n",
       "    }\n",
       "\n",
       "    .dataframe tbody tr th {\n",
       "        vertical-align: top;\n",
       "    }\n",
       "\n",
       "    .dataframe thead th {\n",
       "        text-align: right;\n",
       "    }\n",
       "</style>\n",
       "<table border=\"1\" class=\"dataframe\">\n",
       "  <thead>\n",
       "    <tr style=\"text-align: right;\">\n",
       "      <th></th>\n",
       "      <th>Density</th>\n",
       "      <th>Target</th>\n",
       "    </tr>\n",
       "  </thead>\n",
       "  <tbody>\n",
       "    <tr>\n",
       "      <th>3</th>\n",
       "      <td>Low</td>\n",
       "      <td>0.492481</td>\n",
       "    </tr>\n",
       "    <tr>\n",
       "      <th>1</th>\n",
       "      <td>High</td>\n",
       "      <td>0.437500</td>\n",
       "    </tr>\n",
       "    <tr>\n",
       "      <th>0</th>\n",
       "      <td>Fat-containing</td>\n",
       "      <td>0.416667</td>\n",
       "    </tr>\n",
       "    <tr>\n",
       "      <th>2</th>\n",
       "      <td>Iso</td>\n",
       "      <td>0.305085</td>\n",
       "    </tr>\n",
       "  </tbody>\n",
       "</table>\n",
       "</div>"
      ],
      "text/plain": [
       "          Density    Target\n",
       "3             Low  0.492481\n",
       "1            High  0.437500\n",
       "0  Fat-containing  0.416667\n",
       "2             Iso  0.305085"
      ]
     },
     "execution_count": 23,
     "metadata": {},
     "output_type": "execute_result"
    }
   ],
   "source": [
    "df_practice[['Density','Target']].groupby(\"Density\", as_index=False).mean().sort_values('Target', ascending=False)"
   ]
  },
  {
   "cell_type": "markdown",
   "metadata": {},
   "source": [
    "Mật độ các khối u thấp thì khả năng là u ác tính sẽ cao hơn"
   ]
  },
  {
   "cell_type": "code",
   "execution_count": 24,
   "metadata": {},
   "outputs": [
    {
     "data": {
      "text/html": [
       "<div>\n",
       "<style scoped>\n",
       "    .dataframe tbody tr th:only-of-type {\n",
       "        vertical-align: middle;\n",
       "    }\n",
       "\n",
       "    .dataframe tbody tr th {\n",
       "        vertical-align: top;\n",
       "    }\n",
       "\n",
       "    .dataframe thead th {\n",
       "        text-align: right;\n",
       "    }\n",
       "</style>\n",
       "<table border=\"1\" class=\"dataframe\">\n",
       "  <thead>\n",
       "    <tr style=\"text-align: right;\">\n",
       "      <th></th>\n",
       "      <th>PatientID</th>\n",
       "      <th>Age</th>\n",
       "      <th>Shape</th>\n",
       "      <th>Margin</th>\n",
       "      <th>Density</th>\n",
       "      <th>Target</th>\n",
       "    </tr>\n",
       "  </thead>\n",
       "  <tbody>\n",
       "    <tr>\n",
       "      <th>0</th>\n",
       "      <td>P1</td>\n",
       "      <td>67.0</td>\n",
       "      <td>Lobular</td>\n",
       "      <td>Spiculated</td>\n",
       "      <td>Low</td>\n",
       "      <td>1</td>\n",
       "    </tr>\n",
       "    <tr>\n",
       "      <th>1</th>\n",
       "      <td>P2</td>\n",
       "      <td>43.0</td>\n",
       "      <td>Round</td>\n",
       "      <td>Circumscribed</td>\n",
       "      <td>NaN</td>\n",
       "      <td>1</td>\n",
       "    </tr>\n",
       "    <tr>\n",
       "      <th>2</th>\n",
       "      <td>P3</td>\n",
       "      <td>58.0</td>\n",
       "      <td>Irregular</td>\n",
       "      <td>Spiculated</td>\n",
       "      <td>Low</td>\n",
       "      <td>1</td>\n",
       "    </tr>\n",
       "    <tr>\n",
       "      <th>3</th>\n",
       "      <td>P4</td>\n",
       "      <td>28.0</td>\n",
       "      <td>Round</td>\n",
       "      <td>Circumscribed</td>\n",
       "      <td>Low</td>\n",
       "      <td>0</td>\n",
       "    </tr>\n",
       "    <tr>\n",
       "      <th>4</th>\n",
       "      <td>P5</td>\n",
       "      <td>74.0</td>\n",
       "      <td>Round</td>\n",
       "      <td>Spiculated</td>\n",
       "      <td>NaN</td>\n",
       "      <td>1</td>\n",
       "    </tr>\n",
       "  </tbody>\n",
       "</table>\n",
       "</div>"
      ],
      "text/plain": [
       "  PatientID   Age      Shape         Margin Density  Target\n",
       "0        P1  67.0    Lobular     Spiculated     Low       1\n",
       "1        P2  43.0      Round  Circumscribed     NaN       1\n",
       "2        P3  58.0  Irregular     Spiculated     Low       1\n",
       "3        P4  28.0      Round  Circumscribed     Low       0\n",
       "4        P5  74.0      Round     Spiculated     NaN       1"
      ]
     },
     "execution_count": 24,
     "metadata": {},
     "output_type": "execute_result"
    }
   ],
   "source": [
    "df_practice.head()"
   ]
  },
  {
   "cell_type": "markdown",
   "metadata": {},
   "source": [
    "**Yêu cầu 4:** Đề xuất và Áp dụng các kỹ chuẩn hóa, tiền xử lý dữ liệu phù hợp cho tập dữ liệu này, kiểm tra mức độ cân bằng dữ liệu để có thể đưa vào các mô hình học máy và lưu kết quả dữ liệu sau xử lý ra file Data_Practice_ok.csv \n"
   ]
  },
  {
   "cell_type": "markdown",
   "metadata": {},
   "source": [
    "### Làm sạch dữ liệu\n",
    "---\n",
    "#### a) Loại bỏ thuộc tính không quan trọng\n",
    "---\n",
    "- **Thuộc tính PatientID**: Thuộc tính này chỉ mà id, đánh số thứ tự của hành khách (Bỏ)\n",
    "\n",
    "\n",
    "\n",
    "\n",
    "\n",
    "\n"
   ]
  },
  {
   "cell_type": "code",
   "execution_count": 25,
   "metadata": {},
   "outputs": [
    {
     "name": "stdout",
     "output_type": "stream",
     "text": [
      "<class 'pandas.core.frame.DataFrame'>\n",
      "RangeIndex: 961 entries, 0 to 960\n",
      "Data columns (total 5 columns):\n",
      " #   Column   Non-Null Count  Dtype  \n",
      "---  ------   --------------  -----  \n",
      " 0   Age      956 non-null    float64\n",
      " 1   Shape    930 non-null    object \n",
      " 2   Margin   913 non-null    object \n",
      " 3   Density  885 non-null    object \n",
      " 4   Target   961 non-null    int64  \n",
      "dtypes: float64(1), int64(1), object(3)\n",
      "memory usage: 37.7+ KB\n"
     ]
    }
   ],
   "source": [
    "#Tạo một dataFrame mới loại bỏ những thuộc tính không quan trọng\n",
    "df_patient = df_practice.drop(['PatientID'],axis = 1)\n",
    "df_patient.info()"
   ]
  },
  {
   "cell_type": "markdown",
   "metadata": {},
   "source": [
    "#### b) Xử lý các giá trị missing"
   ]
  },
  {
   "cell_type": "code",
   "execution_count": 26,
   "metadata": {},
   "outputs": [
    {
     "name": "stdout",
     "output_type": "stream",
     "text": [
      "Dữ liệu bao gồm 5 cột.\n",
      "\r",
      " Có 4 cột bị missing dữ liệu\n"
     ]
    },
    {
     "data": {
      "text/html": [
       "<div>\n",
       "<style scoped>\n",
       "    .dataframe tbody tr th:only-of-type {\n",
       "        vertical-align: middle;\n",
       "    }\n",
       "\n",
       "    .dataframe tbody tr th {\n",
       "        vertical-align: top;\n",
       "    }\n",
       "\n",
       "    .dataframe thead th {\n",
       "        text-align: right;\n",
       "    }\n",
       "</style>\n",
       "<table border=\"1\" class=\"dataframe\">\n",
       "  <thead>\n",
       "    <tr style=\"text-align: right;\">\n",
       "      <th></th>\n",
       "      <th>Số giá trị missing</th>\n",
       "      <th>Tỷ lệ % missing</th>\n",
       "    </tr>\n",
       "  </thead>\n",
       "  <tbody>\n",
       "    <tr>\n",
       "      <th>Density</th>\n",
       "      <td>76</td>\n",
       "      <td>7.91</td>\n",
       "    </tr>\n",
       "    <tr>\n",
       "      <th>Margin</th>\n",
       "      <td>48</td>\n",
       "      <td>4.99</td>\n",
       "    </tr>\n",
       "    <tr>\n",
       "      <th>Shape</th>\n",
       "      <td>31</td>\n",
       "      <td>3.23</td>\n",
       "    </tr>\n",
       "    <tr>\n",
       "      <th>Age</th>\n",
       "      <td>5</td>\n",
       "      <td>0.52</td>\n",
       "    </tr>\n",
       "  </tbody>\n",
       "</table>\n",
       "</div>"
      ],
      "text/plain": [
       "         Số giá trị missing  Tỷ lệ % missing\n",
       "Density                  76             7.91\n",
       "Margin                   48             4.99\n",
       "Shape                    31             3.23\n",
       "Age                       5             0.52"
      ]
     },
     "execution_count": 26,
     "metadata": {},
     "output_type": "execute_result"
    }
   ],
   "source": [
    "percent_missing_value(df_patient)"
   ]
  },
  {
   "cell_type": "markdown",
   "metadata": {},
   "source": [
    "##### Xử lý giá trị thiếu với thuộc tính Age\n",
    "---\n",
    "Lấy số tuổi trung bình của các bệnh nhân có Shape là 'irregular' và Density là 'Low' để thay thế cho các giá trị missing ở thuộc tính tuổi"
   ]
  },
  {
   "cell_type": "code",
   "execution_count": 27,
   "metadata": {},
   "outputs": [
    {
     "data": {
      "text/html": [
       "<div>\n",
       "<style scoped>\n",
       "    .dataframe tbody tr th:only-of-type {\n",
       "        vertical-align: middle;\n",
       "    }\n",
       "\n",
       "    .dataframe tbody tr th {\n",
       "        vertical-align: top;\n",
       "    }\n",
       "\n",
       "    .dataframe thead th {\n",
       "        text-align: right;\n",
       "    }\n",
       "</style>\n",
       "<table border=\"1\" class=\"dataframe\">\n",
       "  <thead>\n",
       "    <tr style=\"text-align: right;\">\n",
       "      <th></th>\n",
       "      <th>Age</th>\n",
       "      <th>Shape</th>\n",
       "      <th>Margin</th>\n",
       "      <th>Density</th>\n",
       "      <th>Target</th>\n",
       "    </tr>\n",
       "  </thead>\n",
       "  <tbody>\n",
       "    <tr>\n",
       "      <th>443</th>\n",
       "      <td>NaN</td>\n",
       "      <td>Irregular</td>\n",
       "      <td>Spiculated</td>\n",
       "      <td>Low</td>\n",
       "      <td>1</td>\n",
       "    </tr>\n",
       "    <tr>\n",
       "      <th>453</th>\n",
       "      <td>NaN</td>\n",
       "      <td>Irregular</td>\n",
       "      <td>ill-defined</td>\n",
       "      <td>Low</td>\n",
       "      <td>1</td>\n",
       "    </tr>\n",
       "    <tr>\n",
       "      <th>683</th>\n",
       "      <td>NaN</td>\n",
       "      <td>Lobular</td>\n",
       "      <td>Obscured</td>\n",
       "      <td>Low</td>\n",
       "      <td>1</td>\n",
       "    </tr>\n",
       "    <tr>\n",
       "      <th>884</th>\n",
       "      <td>NaN</td>\n",
       "      <td>Irregular</td>\n",
       "      <td>ill-defined</td>\n",
       "      <td>Low</td>\n",
       "      <td>1</td>\n",
       "    </tr>\n",
       "    <tr>\n",
       "      <th>923</th>\n",
       "      <td>NaN</td>\n",
       "      <td>Irregular</td>\n",
       "      <td>Obscured</td>\n",
       "      <td>Low</td>\n",
       "      <td>1</td>\n",
       "    </tr>\n",
       "  </tbody>\n",
       "</table>\n",
       "</div>"
      ],
      "text/plain": [
       "     Age      Shape       Margin Density  Target\n",
       "443  NaN  Irregular   Spiculated     Low       1\n",
       "453  NaN  Irregular  ill-defined     Low       1\n",
       "683  NaN    Lobular     Obscured     Low       1\n",
       "884  NaN  Irregular  ill-defined     Low       1\n",
       "923  NaN  Irregular     Obscured     Low       1"
      ]
     },
     "execution_count": 27,
     "metadata": {},
     "output_type": "execute_result"
    }
   ],
   "source": [
    "df_patient.loc[df_patient['Age'].isnull()]"
   ]
  },
  {
   "cell_type": "code",
   "execution_count": null,
   "metadata": {},
   "outputs": [],
   "source": []
  },
  {
   "cell_type": "code",
   "execution_count": 28,
   "metadata": {},
   "outputs": [
    {
     "data": {
      "text/html": [
       "<div>\n",
       "<style scoped>\n",
       "    .dataframe tbody tr th:only-of-type {\n",
       "        vertical-align: middle;\n",
       "    }\n",
       "\n",
       "    .dataframe tbody tr th {\n",
       "        vertical-align: top;\n",
       "    }\n",
       "\n",
       "    .dataframe thead th {\n",
       "        text-align: right;\n",
       "    }\n",
       "</style>\n",
       "<table border=\"1\" class=\"dataframe\">\n",
       "  <thead>\n",
       "    <tr style=\"text-align: right;\">\n",
       "      <th></th>\n",
       "      <th>Age</th>\n",
       "      <th>Shape</th>\n",
       "      <th>Margin</th>\n",
       "      <th>Density</th>\n",
       "      <th>Target</th>\n",
       "    </tr>\n",
       "  </thead>\n",
       "  <tbody>\n",
       "    <tr>\n",
       "      <th>2</th>\n",
       "      <td>58.0</td>\n",
       "      <td>Irregular</td>\n",
       "      <td>Spiculated</td>\n",
       "      <td>Low</td>\n",
       "      <td>1</td>\n",
       "    </tr>\n",
       "    <tr>\n",
       "      <th>23</th>\n",
       "      <td>42.0</td>\n",
       "      <td>Irregular</td>\n",
       "      <td>ill-defined</td>\n",
       "      <td>Low</td>\n",
       "      <td>1</td>\n",
       "    </tr>\n",
       "    <tr>\n",
       "      <th>25</th>\n",
       "      <td>75.0</td>\n",
       "      <td>Irregular</td>\n",
       "      <td>Spiculated</td>\n",
       "      <td>Low</td>\n",
       "      <td>1</td>\n",
       "    </tr>\n",
       "    <tr>\n",
       "      <th>28</th>\n",
       "      <td>45.0</td>\n",
       "      <td>Irregular</td>\n",
       "      <td>Spiculated</td>\n",
       "      <td>Low</td>\n",
       "      <td>1</td>\n",
       "    </tr>\n",
       "    <tr>\n",
       "      <th>31</th>\n",
       "      <td>54.0</td>\n",
       "      <td>Irregular</td>\n",
       "      <td>ill-defined</td>\n",
       "      <td>Low</td>\n",
       "      <td>1</td>\n",
       "    </tr>\n",
       "    <tr>\n",
       "      <th>...</th>\n",
       "      <td>...</td>\n",
       "      <td>...</td>\n",
       "      <td>...</td>\n",
       "      <td>...</td>\n",
       "      <td>...</td>\n",
       "    </tr>\n",
       "    <tr>\n",
       "      <th>951</th>\n",
       "      <td>67.0</td>\n",
       "      <td>Irregular</td>\n",
       "      <td>Spiculated</td>\n",
       "      <td>Low</td>\n",
       "      <td>1</td>\n",
       "    </tr>\n",
       "    <tr>\n",
       "      <th>952</th>\n",
       "      <td>68.0</td>\n",
       "      <td>Irregular</td>\n",
       "      <td>ill-defined</td>\n",
       "      <td>Low</td>\n",
       "      <td>1</td>\n",
       "    </tr>\n",
       "    <tr>\n",
       "      <th>955</th>\n",
       "      <td>52.0</td>\n",
       "      <td>Irregular</td>\n",
       "      <td>ill-defined</td>\n",
       "      <td>Low</td>\n",
       "      <td>1</td>\n",
       "    </tr>\n",
       "    <tr>\n",
       "      <th>957</th>\n",
       "      <td>56.0</td>\n",
       "      <td>Irregular</td>\n",
       "      <td>Spiculated</td>\n",
       "      <td>Low</td>\n",
       "      <td>1</td>\n",
       "    </tr>\n",
       "    <tr>\n",
       "      <th>959</th>\n",
       "      <td>66.0</td>\n",
       "      <td>Irregular</td>\n",
       "      <td>Spiculated</td>\n",
       "      <td>Low</td>\n",
       "      <td>1</td>\n",
       "    </tr>\n",
       "  </tbody>\n",
       "</table>\n",
       "<p>284 rows × 5 columns</p>\n",
       "</div>"
      ],
      "text/plain": [
       "      Age      Shape       Margin Density  Target\n",
       "2    58.0  Irregular   Spiculated     Low       1\n",
       "23   42.0  Irregular  ill-defined     Low       1\n",
       "25   75.0  Irregular   Spiculated     Low       1\n",
       "28   45.0  Irregular   Spiculated     Low       1\n",
       "31   54.0  Irregular  ill-defined     Low       1\n",
       "..    ...        ...          ...     ...     ...\n",
       "951  67.0  Irregular   Spiculated     Low       1\n",
       "952  68.0  Irregular  ill-defined     Low       1\n",
       "955  52.0  Irregular  ill-defined     Low       1\n",
       "957  56.0  Irregular   Spiculated     Low       1\n",
       "959  66.0  Irregular   Spiculated     Low       1\n",
       "\n",
       "[284 rows x 5 columns]"
      ]
     },
     "execution_count": 28,
     "metadata": {},
     "output_type": "execute_result"
    }
   ],
   "source": [
    "#Xử lý missing thuộc tính Age\n",
    "fill_miss_age1 = df_patient[(df_patient['Shape']=='Irregular') & (df_patient['Density']=='Low') & (df_patient['Target']==1)]\n",
    "fill_miss_age1"
   ]
  },
  {
   "cell_type": "code",
   "execution_count": 29,
   "metadata": {},
   "outputs": [
    {
     "data": {
      "text/html": [
       "<div>\n",
       "<style scoped>\n",
       "    .dataframe tbody tr th:only-of-type {\n",
       "        vertical-align: middle;\n",
       "    }\n",
       "\n",
       "    .dataframe tbody tr th {\n",
       "        vertical-align: top;\n",
       "    }\n",
       "\n",
       "    .dataframe thead th {\n",
       "        text-align: right;\n",
       "    }\n",
       "</style>\n",
       "<table border=\"1\" class=\"dataframe\">\n",
       "  <thead>\n",
       "    <tr style=\"text-align: right;\">\n",
       "      <th></th>\n",
       "      <th>Age</th>\n",
       "      <th>Shape</th>\n",
       "      <th>Margin</th>\n",
       "      <th>Density</th>\n",
       "      <th>Target</th>\n",
       "    </tr>\n",
       "  </thead>\n",
       "  <tbody>\n",
       "    <tr>\n",
       "      <th>0</th>\n",
       "      <td>67.0</td>\n",
       "      <td>Lobular</td>\n",
       "      <td>Spiculated</td>\n",
       "      <td>Low</td>\n",
       "      <td>1</td>\n",
       "    </tr>\n",
       "    <tr>\n",
       "      <th>51</th>\n",
       "      <td>80.0</td>\n",
       "      <td>Lobular</td>\n",
       "      <td>Spiculated</td>\n",
       "      <td>Low</td>\n",
       "      <td>1</td>\n",
       "    </tr>\n",
       "    <tr>\n",
       "      <th>90</th>\n",
       "      <td>73.0</td>\n",
       "      <td>Lobular</td>\n",
       "      <td>ill-defined</td>\n",
       "      <td>Low</td>\n",
       "      <td>1</td>\n",
       "    </tr>\n",
       "    <tr>\n",
       "      <th>118</th>\n",
       "      <td>55.0</td>\n",
       "      <td>Lobular</td>\n",
       "      <td>ill-defined</td>\n",
       "      <td>Low</td>\n",
       "      <td>1</td>\n",
       "    </tr>\n",
       "    <tr>\n",
       "      <th>139</th>\n",
       "      <td>67.0</td>\n",
       "      <td>Lobular</td>\n",
       "      <td>Spiculated</td>\n",
       "      <td>Low</td>\n",
       "      <td>1</td>\n",
       "    </tr>\n",
       "    <tr>\n",
       "      <th>168</th>\n",
       "      <td>54.0</td>\n",
       "      <td>Lobular</td>\n",
       "      <td>Spiculated</td>\n",
       "      <td>Low</td>\n",
       "      <td>1</td>\n",
       "    </tr>\n",
       "    <tr>\n",
       "      <th>188</th>\n",
       "      <td>81.0</td>\n",
       "      <td>Lobular</td>\n",
       "      <td>ill-defined</td>\n",
       "      <td>Low</td>\n",
       "      <td>1</td>\n",
       "    </tr>\n",
       "    <tr>\n",
       "      <th>330</th>\n",
       "      <td>85.0</td>\n",
       "      <td>Lobular</td>\n",
       "      <td>Spiculated</td>\n",
       "      <td>Low</td>\n",
       "      <td>1</td>\n",
       "    </tr>\n",
       "    <tr>\n",
       "      <th>357</th>\n",
       "      <td>56.0</td>\n",
       "      <td>Lobular</td>\n",
       "      <td>Circumscribed</td>\n",
       "      <td>Low</td>\n",
       "      <td>1</td>\n",
       "    </tr>\n",
       "    <tr>\n",
       "      <th>382</th>\n",
       "      <td>52.0</td>\n",
       "      <td>Lobular</td>\n",
       "      <td>Spiculated</td>\n",
       "      <td>Low</td>\n",
       "      <td>1</td>\n",
       "    </tr>\n",
       "    <tr>\n",
       "      <th>436</th>\n",
       "      <td>63.0</td>\n",
       "      <td>Lobular</td>\n",
       "      <td>ill-defined</td>\n",
       "      <td>Low</td>\n",
       "      <td>1</td>\n",
       "    </tr>\n",
       "    <tr>\n",
       "      <th>469</th>\n",
       "      <td>77.0</td>\n",
       "      <td>Lobular</td>\n",
       "      <td>ill-defined</td>\n",
       "      <td>Low</td>\n",
       "      <td>1</td>\n",
       "    </tr>\n",
       "    <tr>\n",
       "      <th>493</th>\n",
       "      <td>83.0</td>\n",
       "      <td>Lobular</td>\n",
       "      <td>Obscured</td>\n",
       "      <td>Low</td>\n",
       "      <td>1</td>\n",
       "    </tr>\n",
       "    <tr>\n",
       "      <th>506</th>\n",
       "      <td>44.0</td>\n",
       "      <td>Lobular</td>\n",
       "      <td>ill-defined</td>\n",
       "      <td>Low</td>\n",
       "      <td>1</td>\n",
       "    </tr>\n",
       "    <tr>\n",
       "      <th>549</th>\n",
       "      <td>69.0</td>\n",
       "      <td>Lobular</td>\n",
       "      <td>ill-defined</td>\n",
       "      <td>Low</td>\n",
       "      <td>1</td>\n",
       "    </tr>\n",
       "    <tr>\n",
       "      <th>578</th>\n",
       "      <td>84.0</td>\n",
       "      <td>Lobular</td>\n",
       "      <td>Microlobulated</td>\n",
       "      <td>Low</td>\n",
       "      <td>1</td>\n",
       "    </tr>\n",
       "    <tr>\n",
       "      <th>599</th>\n",
       "      <td>65.0</td>\n",
       "      <td>Lobular</td>\n",
       "      <td>Obscured</td>\n",
       "      <td>Low</td>\n",
       "      <td>1</td>\n",
       "    </tr>\n",
       "    <tr>\n",
       "      <th>609</th>\n",
       "      <td>86.0</td>\n",
       "      <td>Lobular</td>\n",
       "      <td>ill-defined</td>\n",
       "      <td>Low</td>\n",
       "      <td>1</td>\n",
       "    </tr>\n",
       "    <tr>\n",
       "      <th>624</th>\n",
       "      <td>64.0</td>\n",
       "      <td>Lobular</td>\n",
       "      <td>Obscured</td>\n",
       "      <td>Low</td>\n",
       "      <td>1</td>\n",
       "    </tr>\n",
       "    <tr>\n",
       "      <th>664</th>\n",
       "      <td>60.0</td>\n",
       "      <td>Lobular</td>\n",
       "      <td>Spiculated</td>\n",
       "      <td>Low</td>\n",
       "      <td>1</td>\n",
       "    </tr>\n",
       "    <tr>\n",
       "      <th>672</th>\n",
       "      <td>64.0</td>\n",
       "      <td>Lobular</td>\n",
       "      <td>Obscured</td>\n",
       "      <td>Low</td>\n",
       "      <td>1</td>\n",
       "    </tr>\n",
       "    <tr>\n",
       "      <th>675</th>\n",
       "      <td>65.0</td>\n",
       "      <td>Lobular</td>\n",
       "      <td>Obscured</td>\n",
       "      <td>Low</td>\n",
       "      <td>1</td>\n",
       "    </tr>\n",
       "    <tr>\n",
       "      <th>683</th>\n",
       "      <td>NaN</td>\n",
       "      <td>Lobular</td>\n",
       "      <td>Obscured</td>\n",
       "      <td>Low</td>\n",
       "      <td>1</td>\n",
       "    </tr>\n",
       "    <tr>\n",
       "      <th>726</th>\n",
       "      <td>96.0</td>\n",
       "      <td>Lobular</td>\n",
       "      <td>ill-defined</td>\n",
       "      <td>Low</td>\n",
       "      <td>1</td>\n",
       "    </tr>\n",
       "    <tr>\n",
       "      <th>730</th>\n",
       "      <td>45.0</td>\n",
       "      <td>Lobular</td>\n",
       "      <td>Circumscribed</td>\n",
       "      <td>Low</td>\n",
       "      <td>1</td>\n",
       "    </tr>\n",
       "    <tr>\n",
       "      <th>761</th>\n",
       "      <td>77.0</td>\n",
       "      <td>Lobular</td>\n",
       "      <td>Obscured</td>\n",
       "      <td>Low</td>\n",
       "      <td>1</td>\n",
       "    </tr>\n",
       "    <tr>\n",
       "      <th>787</th>\n",
       "      <td>62.0</td>\n",
       "      <td>Lobular</td>\n",
       "      <td>Obscured</td>\n",
       "      <td>Low</td>\n",
       "      <td>1</td>\n",
       "    </tr>\n",
       "    <tr>\n",
       "      <th>811</th>\n",
       "      <td>65.0</td>\n",
       "      <td>Lobular</td>\n",
       "      <td>ill-defined</td>\n",
       "      <td>Low</td>\n",
       "      <td>1</td>\n",
       "    </tr>\n",
       "    <tr>\n",
       "      <th>812</th>\n",
       "      <td>74.0</td>\n",
       "      <td>Lobular</td>\n",
       "      <td>Microlobulated</td>\n",
       "      <td>Low</td>\n",
       "      <td>1</td>\n",
       "    </tr>\n",
       "    <tr>\n",
       "      <th>851</th>\n",
       "      <td>46.0</td>\n",
       "      <td>Lobular</td>\n",
       "      <td>Circumscribed</td>\n",
       "      <td>Low</td>\n",
       "      <td>1</td>\n",
       "    </tr>\n",
       "    <tr>\n",
       "      <th>878</th>\n",
       "      <td>50.0</td>\n",
       "      <td>Lobular</td>\n",
       "      <td>Microlobulated</td>\n",
       "      <td>Low</td>\n",
       "      <td>1</td>\n",
       "    </tr>\n",
       "    <tr>\n",
       "      <th>890</th>\n",
       "      <td>72.0</td>\n",
       "      <td>Lobular</td>\n",
       "      <td>Microlobulated</td>\n",
       "      <td>Low</td>\n",
       "      <td>1</td>\n",
       "    </tr>\n",
       "    <tr>\n",
       "      <th>895</th>\n",
       "      <td>72.0</td>\n",
       "      <td>Lobular</td>\n",
       "      <td>Obscured</td>\n",
       "      <td>Low</td>\n",
       "      <td>1</td>\n",
       "    </tr>\n",
       "    <tr>\n",
       "      <th>899</th>\n",
       "      <td>61.0</td>\n",
       "      <td>Lobular</td>\n",
       "      <td>ill-defined</td>\n",
       "      <td>Low</td>\n",
       "      <td>1</td>\n",
       "    </tr>\n",
       "    <tr>\n",
       "      <th>900</th>\n",
       "      <td>55.0</td>\n",
       "      <td>Lobular</td>\n",
       "      <td>ill-defined</td>\n",
       "      <td>Low</td>\n",
       "      <td>1</td>\n",
       "    </tr>\n",
       "    <tr>\n",
       "      <th>907</th>\n",
       "      <td>57.0</td>\n",
       "      <td>Lobular</td>\n",
       "      <td>Obscured</td>\n",
       "      <td>Low</td>\n",
       "      <td>1</td>\n",
       "    </tr>\n",
       "    <tr>\n",
       "      <th>914</th>\n",
       "      <td>74.0</td>\n",
       "      <td>Lobular</td>\n",
       "      <td>Circumscribed</td>\n",
       "      <td>Low</td>\n",
       "      <td>1</td>\n",
       "    </tr>\n",
       "    <tr>\n",
       "      <th>917</th>\n",
       "      <td>42.0</td>\n",
       "      <td>Lobular</td>\n",
       "      <td>ill-defined</td>\n",
       "      <td>Low</td>\n",
       "      <td>1</td>\n",
       "    </tr>\n",
       "    <tr>\n",
       "      <th>926</th>\n",
       "      <td>40.0</td>\n",
       "      <td>Lobular</td>\n",
       "      <td>Microlobulated</td>\n",
       "      <td>Low</td>\n",
       "      <td>1</td>\n",
       "    </tr>\n",
       "    <tr>\n",
       "      <th>942</th>\n",
       "      <td>58.0</td>\n",
       "      <td>Lobular</td>\n",
       "      <td>ill-defined</td>\n",
       "      <td>Low</td>\n",
       "      <td>1</td>\n",
       "    </tr>\n",
       "  </tbody>\n",
       "</table>\n",
       "</div>"
      ],
      "text/plain": [
       "      Age    Shape          Margin Density  Target\n",
       "0    67.0  Lobular      Spiculated     Low       1\n",
       "51   80.0  Lobular      Spiculated     Low       1\n",
       "90   73.0  Lobular     ill-defined     Low       1\n",
       "118  55.0  Lobular     ill-defined     Low       1\n",
       "139  67.0  Lobular      Spiculated     Low       1\n",
       "168  54.0  Lobular      Spiculated     Low       1\n",
       "188  81.0  Lobular     ill-defined     Low       1\n",
       "330  85.0  Lobular      Spiculated     Low       1\n",
       "357  56.0  Lobular   Circumscribed     Low       1\n",
       "382  52.0  Lobular      Spiculated     Low       1\n",
       "436  63.0  Lobular     ill-defined     Low       1\n",
       "469  77.0  Lobular     ill-defined     Low       1\n",
       "493  83.0  Lobular        Obscured     Low       1\n",
       "506  44.0  Lobular     ill-defined     Low       1\n",
       "549  69.0  Lobular     ill-defined     Low       1\n",
       "578  84.0  Lobular  Microlobulated     Low       1\n",
       "599  65.0  Lobular        Obscured     Low       1\n",
       "609  86.0  Lobular     ill-defined     Low       1\n",
       "624  64.0  Lobular        Obscured     Low       1\n",
       "664  60.0  Lobular      Spiculated     Low       1\n",
       "672  64.0  Lobular        Obscured     Low       1\n",
       "675  65.0  Lobular        Obscured     Low       1\n",
       "683   NaN  Lobular        Obscured     Low       1\n",
       "726  96.0  Lobular     ill-defined     Low       1\n",
       "730  45.0  Lobular   Circumscribed     Low       1\n",
       "761  77.0  Lobular        Obscured     Low       1\n",
       "787  62.0  Lobular        Obscured     Low       1\n",
       "811  65.0  Lobular     ill-defined     Low       1\n",
       "812  74.0  Lobular  Microlobulated     Low       1\n",
       "851  46.0  Lobular   Circumscribed     Low       1\n",
       "878  50.0  Lobular  Microlobulated     Low       1\n",
       "890  72.0  Lobular  Microlobulated     Low       1\n",
       "895  72.0  Lobular        Obscured     Low       1\n",
       "899  61.0  Lobular     ill-defined     Low       1\n",
       "900  55.0  Lobular     ill-defined     Low       1\n",
       "907  57.0  Lobular        Obscured     Low       1\n",
       "914  74.0  Lobular   Circumscribed     Low       1\n",
       "917  42.0  Lobular     ill-defined     Low       1\n",
       "926  40.0  Lobular  Microlobulated     Low       1\n",
       "942  58.0  Lobular     ill-defined     Low       1"
      ]
     },
     "execution_count": 29,
     "metadata": {},
     "output_type": "execute_result"
    }
   ],
   "source": [
    "fill_miss_age0 = df_patient[(df_patient['Shape']=='Lobular') & (df_patient['Density']=='Low') & (df_patient['Target']==1)]\n",
    "fill_miss_age0"
   ]
  },
  {
   "cell_type": "code",
   "execution_count": 30,
   "metadata": {},
   "outputs": [
    {
     "name": "stdout",
     "output_type": "stream",
     "text": [
      "Tuổi trung bình của những bệnh nhân có Shape = Irregular và Density = Low và Target = 1  63.0\n"
     ]
    }
   ],
   "source": [
    "fill_miss_age_mean1 = round(fill_miss_age1['Age'].mean(),0)\n",
    "print(\"Tuổi trung bình của những bệnh nhân có Shape = Irregular và Density = Low và Target = 1 \", fill_miss_age_mean1)"
   ]
  },
  {
   "cell_type": "code",
   "execution_count": 31,
   "metadata": {},
   "outputs": [
    {
     "name": "stdout",
     "output_type": "stream",
     "text": [
      "Tuổi trung bình của những bệnh nhân có Shape = Irregular và Density = Low và Target = 0  65.0\n"
     ]
    }
   ],
   "source": [
    "fill_miss_age_mean0 = round(fill_miss_age0['Age'].mean(),0)\n",
    "print(\"Tuổi trung bình của những bệnh nhân có Shape = Irregular và Density = Low và Target = 0 \", fill_miss_age_mean0)"
   ]
  },
  {
   "cell_type": "code",
   "execution_count": 32,
   "metadata": {},
   "outputs": [],
   "source": [
    "#Thực hiện thay thế độ tuổi trung bình là 63 vào bản ghi missing có (df_patient['Shape']=='Irregular') & (df_patient['Density']=='Low') & (df_patient['Target']==1)\n",
    "df_patient.loc[(df_patient['Age'].isnull()) &(df_patient['Shape']=='Irregular') & (df_patient['Density']=='Low') & (df_patient['Target']==1),'Age']=fill_miss_age_mean1 #Chú ý 'Age': Chỉ thay thế ở cột Age thôi"
   ]
  },
  {
   "cell_type": "code",
   "execution_count": 33,
   "metadata": {},
   "outputs": [],
   "source": [
    "#Thực hiện thay thế độ tuổi trung bình là 56 vào bản ghi missing có (df_patient['Shape']=='Lobular') & (df_patient['Density']=='Low') & (df_patient['Target']==0)\n",
    "df_patient.loc[(df_patient['Age'].isnull()) &(df_patient['Shape']=='Lobular') & (df_patient['Density']=='Low') & (df_patient['Target']==1),'Age']=fill_miss_age_mean0 "
   ]
  },
  {
   "cell_type": "code",
   "execution_count": 34,
   "metadata": {},
   "outputs": [
    {
     "data": {
      "text/plain": [
       "Age         0\n",
       "Shape      31\n",
       "Margin     48\n",
       "Density    76\n",
       "Target      0\n",
       "dtype: int64"
      ]
     },
     "execution_count": 34,
     "metadata": {},
     "output_type": "execute_result"
    }
   ],
   "source": [
    "df_patient.isnull().sum()"
   ]
  },
  {
   "cell_type": "code",
   "execution_count": 35,
   "metadata": {},
   "outputs": [
    {
     "data": {
      "text/html": [
       "<div>\n",
       "<style scoped>\n",
       "    .dataframe tbody tr th:only-of-type {\n",
       "        vertical-align: middle;\n",
       "    }\n",
       "\n",
       "    .dataframe tbody tr th {\n",
       "        vertical-align: top;\n",
       "    }\n",
       "\n",
       "    .dataframe thead th {\n",
       "        text-align: right;\n",
       "    }\n",
       "</style>\n",
       "<table border=\"1\" class=\"dataframe\">\n",
       "  <thead>\n",
       "    <tr style=\"text-align: right;\">\n",
       "      <th></th>\n",
       "      <th>Age</th>\n",
       "      <th>Shape</th>\n",
       "      <th>Margin</th>\n",
       "      <th>Density</th>\n",
       "      <th>Target</th>\n",
       "    </tr>\n",
       "  </thead>\n",
       "  <tbody>\n",
       "    <tr>\n",
       "      <th>443</th>\n",
       "      <td>63.0</td>\n",
       "      <td>Irregular</td>\n",
       "      <td>Spiculated</td>\n",
       "      <td>Low</td>\n",
       "      <td>1</td>\n",
       "    </tr>\n",
       "    <tr>\n",
       "      <th>453</th>\n",
       "      <td>63.0</td>\n",
       "      <td>Irregular</td>\n",
       "      <td>ill-defined</td>\n",
       "      <td>Low</td>\n",
       "      <td>1</td>\n",
       "    </tr>\n",
       "    <tr>\n",
       "      <th>683</th>\n",
       "      <td>65.0</td>\n",
       "      <td>Lobular</td>\n",
       "      <td>Obscured</td>\n",
       "      <td>Low</td>\n",
       "      <td>1</td>\n",
       "    </tr>\n",
       "    <tr>\n",
       "      <th>884</th>\n",
       "      <td>63.0</td>\n",
       "      <td>Irregular</td>\n",
       "      <td>ill-defined</td>\n",
       "      <td>Low</td>\n",
       "      <td>1</td>\n",
       "    </tr>\n",
       "    <tr>\n",
       "      <th>923</th>\n",
       "      <td>63.0</td>\n",
       "      <td>Irregular</td>\n",
       "      <td>Obscured</td>\n",
       "      <td>Low</td>\n",
       "      <td>1</td>\n",
       "    </tr>\n",
       "  </tbody>\n",
       "</table>\n",
       "</div>"
      ],
      "text/plain": [
       "      Age      Shape       Margin Density  Target\n",
       "443  63.0  Irregular   Spiculated     Low       1\n",
       "453  63.0  Irregular  ill-defined     Low       1\n",
       "683  65.0    Lobular     Obscured     Low       1\n",
       "884  63.0  Irregular  ill-defined     Low       1\n",
       "923  63.0  Irregular     Obscured     Low       1"
      ]
     },
     "execution_count": 35,
     "metadata": {},
     "output_type": "execute_result"
    }
   ],
   "source": [
    "#Dữ liệu sau khi đc xử lý\n",
    "df_patient.iloc[[443,453,683,884,923],:]"
   ]
  },
  {
   "cell_type": "markdown",
   "metadata": {},
   "source": [
    "##### Xử lý giá trị thiếu với thuộc tính Shape"
   ]
  },
  {
   "cell_type": "code",
   "execution_count": 36,
   "metadata": {},
   "outputs": [
    {
     "name": "stdout",
     "output_type": "stream",
     "text": [
      "Dữ liệu bao gồm 5 cột.\n",
      "\r",
      " Có 3 cột bị missing dữ liệu\n"
     ]
    },
    {
     "data": {
      "text/html": [
       "<div>\n",
       "<style scoped>\n",
       "    .dataframe tbody tr th:only-of-type {\n",
       "        vertical-align: middle;\n",
       "    }\n",
       "\n",
       "    .dataframe tbody tr th {\n",
       "        vertical-align: top;\n",
       "    }\n",
       "\n",
       "    .dataframe thead th {\n",
       "        text-align: right;\n",
       "    }\n",
       "</style>\n",
       "<table border=\"1\" class=\"dataframe\">\n",
       "  <thead>\n",
       "    <tr style=\"text-align: right;\">\n",
       "      <th></th>\n",
       "      <th>Số giá trị missing</th>\n",
       "      <th>Tỷ lệ % missing</th>\n",
       "    </tr>\n",
       "  </thead>\n",
       "  <tbody>\n",
       "    <tr>\n",
       "      <th>Density</th>\n",
       "      <td>76</td>\n",
       "      <td>7.91</td>\n",
       "    </tr>\n",
       "    <tr>\n",
       "      <th>Margin</th>\n",
       "      <td>48</td>\n",
       "      <td>4.99</td>\n",
       "    </tr>\n",
       "    <tr>\n",
       "      <th>Shape</th>\n",
       "      <td>31</td>\n",
       "      <td>3.23</td>\n",
       "    </tr>\n",
       "  </tbody>\n",
       "</table>\n",
       "</div>"
      ],
      "text/plain": [
       "         Số giá trị missing  Tỷ lệ % missing\n",
       "Density                  76             7.91\n",
       "Margin                   48             4.99\n",
       "Shape                    31             3.23"
      ]
     },
     "execution_count": 36,
     "metadata": {},
     "output_type": "execute_result"
    }
   ],
   "source": [
    "percent_missing_value(df_patient)"
   ]
  },
  {
   "cell_type": "code",
   "execution_count": 37,
   "metadata": {},
   "outputs": [
    {
     "data": {
      "text/html": [
       "<div>\n",
       "<style scoped>\n",
       "    .dataframe tbody tr th:only-of-type {\n",
       "        vertical-align: middle;\n",
       "    }\n",
       "\n",
       "    .dataframe tbody tr th {\n",
       "        vertical-align: top;\n",
       "    }\n",
       "\n",
       "    .dataframe thead th {\n",
       "        text-align: right;\n",
       "    }\n",
       "</style>\n",
       "<table border=\"1\" class=\"dataframe\">\n",
       "  <thead>\n",
       "    <tr style=\"text-align: right;\">\n",
       "      <th></th>\n",
       "      <th>Age</th>\n",
       "      <th>Shape</th>\n",
       "      <th>Margin</th>\n",
       "      <th>Density</th>\n",
       "      <th>Target</th>\n",
       "    </tr>\n",
       "  </thead>\n",
       "  <tbody>\n",
       "    <tr>\n",
       "      <th>6</th>\n",
       "      <td>70.0</td>\n",
       "      <td>NaN</td>\n",
       "      <td>NaN</td>\n",
       "      <td>Low</td>\n",
       "      <td>0</td>\n",
       "    </tr>\n",
       "    <tr>\n",
       "      <th>9</th>\n",
       "      <td>60.0</td>\n",
       "      <td>NaN</td>\n",
       "      <td>Spiculated</td>\n",
       "      <td>High</td>\n",
       "      <td>1</td>\n",
       "    </tr>\n",
       "    <tr>\n",
       "      <th>20</th>\n",
       "      <td>66.0</td>\n",
       "      <td>NaN</td>\n",
       "      <td>NaN</td>\n",
       "      <td>High</td>\n",
       "      <td>1</td>\n",
       "    </tr>\n",
       "    <tr>\n",
       "      <th>48</th>\n",
       "      <td>42.0</td>\n",
       "      <td>NaN</td>\n",
       "      <td>NaN</td>\n",
       "      <td>Fat-containing</td>\n",
       "      <td>0</td>\n",
       "    </tr>\n",
       "    <tr>\n",
       "      <th>54</th>\n",
       "      <td>53.0</td>\n",
       "      <td>NaN</td>\n",
       "      <td>Spiculated</td>\n",
       "      <td>Low</td>\n",
       "      <td>1</td>\n",
       "    </tr>\n",
       "    <tr>\n",
       "      <th>74</th>\n",
       "      <td>70.0</td>\n",
       "      <td>NaN</td>\n",
       "      <td>ill-defined</td>\n",
       "      <td>NaN</td>\n",
       "      <td>1</td>\n",
       "    </tr>\n",
       "    <tr>\n",
       "      <th>83</th>\n",
       "      <td>57.0</td>\n",
       "      <td>NaN</td>\n",
       "      <td>ill-defined</td>\n",
       "      <td>High</td>\n",
       "      <td>0</td>\n",
       "    </tr>\n",
       "    <tr>\n",
       "      <th>128</th>\n",
       "      <td>52.0</td>\n",
       "      <td>NaN</td>\n",
       "      <td>ill-defined</td>\n",
       "      <td>NaN</td>\n",
       "      <td>0</td>\n",
       "    </tr>\n",
       "    <tr>\n",
       "      <th>157</th>\n",
       "      <td>51.0</td>\n",
       "      <td>NaN</td>\n",
       "      <td>NaN</td>\n",
       "      <td>Low</td>\n",
       "      <td>0</td>\n",
       "    </tr>\n",
       "    <tr>\n",
       "      <th>163</th>\n",
       "      <td>53.0</td>\n",
       "      <td>NaN</td>\n",
       "      <td>ill-defined</td>\n",
       "      <td>Low</td>\n",
       "      <td>0</td>\n",
       "    </tr>\n",
       "    <tr>\n",
       "      <th>236</th>\n",
       "      <td>60.0</td>\n",
       "      <td>NaN</td>\n",
       "      <td>Obscured</td>\n",
       "      <td>High</td>\n",
       "      <td>0</td>\n",
       "    </tr>\n",
       "    <tr>\n",
       "      <th>255</th>\n",
       "      <td>76.0</td>\n",
       "      <td>NaN</td>\n",
       "      <td>Obscured</td>\n",
       "      <td>Iso</td>\n",
       "      <td>0</td>\n",
       "    </tr>\n",
       "    <tr>\n",
       "      <th>387</th>\n",
       "      <td>64.0</td>\n",
       "      <td>NaN</td>\n",
       "      <td>NaN</td>\n",
       "      <td>Low</td>\n",
       "      <td>0</td>\n",
       "    </tr>\n",
       "    <tr>\n",
       "      <th>388</th>\n",
       "      <td>49.0</td>\n",
       "      <td>NaN</td>\n",
       "      <td>Obscured</td>\n",
       "      <td>Low</td>\n",
       "      <td>0</td>\n",
       "    </tr>\n",
       "    <tr>\n",
       "      <th>389</th>\n",
       "      <td>44.0</td>\n",
       "      <td>NaN</td>\n",
       "      <td>ill-defined</td>\n",
       "      <td>Low</td>\n",
       "      <td>0</td>\n",
       "    </tr>\n",
       "    <tr>\n",
       "      <th>394</th>\n",
       "      <td>34.0</td>\n",
       "      <td>NaN</td>\n",
       "      <td>NaN</td>\n",
       "      <td>Fat-containing</td>\n",
       "      <td>0</td>\n",
       "    </tr>\n",
       "    <tr>\n",
       "      <th>476</th>\n",
       "      <td>41.0</td>\n",
       "      <td>NaN</td>\n",
       "      <td>NaN</td>\n",
       "      <td>Low</td>\n",
       "      <td>0</td>\n",
       "    </tr>\n",
       "    <tr>\n",
       "      <th>496</th>\n",
       "      <td>82.0</td>\n",
       "      <td>NaN</td>\n",
       "      <td>Spiculated</td>\n",
       "      <td>Low</td>\n",
       "      <td>1</td>\n",
       "    </tr>\n",
       "    <tr>\n",
       "      <th>519</th>\n",
       "      <td>68.0</td>\n",
       "      <td>NaN</td>\n",
       "      <td>NaN</td>\n",
       "      <td>Low</td>\n",
       "      <td>0</td>\n",
       "    </tr>\n",
       "    <tr>\n",
       "      <th>531</th>\n",
       "      <td>55.0</td>\n",
       "      <td>NaN</td>\n",
       "      <td>NaN</td>\n",
       "      <td>Low</td>\n",
       "      <td>0</td>\n",
       "    </tr>\n",
       "    <tr>\n",
       "      <th>537</th>\n",
       "      <td>63.0</td>\n",
       "      <td>NaN</td>\n",
       "      <td>ill-defined</td>\n",
       "      <td>Low</td>\n",
       "      <td>1</td>\n",
       "    </tr>\n",
       "    <tr>\n",
       "      <th>554</th>\n",
       "      <td>70.0</td>\n",
       "      <td>NaN</td>\n",
       "      <td>Spiculated</td>\n",
       "      <td>Low</td>\n",
       "      <td>1</td>\n",
       "    </tr>\n",
       "    <tr>\n",
       "      <th>561</th>\n",
       "      <td>59.0</td>\n",
       "      <td>NaN</td>\n",
       "      <td>ill-defined</td>\n",
       "      <td>Low</td>\n",
       "      <td>0</td>\n",
       "    </tr>\n",
       "    <tr>\n",
       "      <th>581</th>\n",
       "      <td>65.0</td>\n",
       "      <td>NaN</td>\n",
       "      <td>Circumscribed</td>\n",
       "      <td>Iso</td>\n",
       "      <td>0</td>\n",
       "    </tr>\n",
       "    <tr>\n",
       "      <th>614</th>\n",
       "      <td>46.0</td>\n",
       "      <td>NaN</td>\n",
       "      <td>Spiculated</td>\n",
       "      <td>NaN</td>\n",
       "      <td>1</td>\n",
       "    </tr>\n",
       "    <tr>\n",
       "      <th>660</th>\n",
       "      <td>58.0</td>\n",
       "      <td>NaN</td>\n",
       "      <td>ill-defined</td>\n",
       "      <td>Low</td>\n",
       "      <td>1</td>\n",
       "    </tr>\n",
       "    <tr>\n",
       "      <th>661</th>\n",
       "      <td>51.0</td>\n",
       "      <td>NaN</td>\n",
       "      <td>ill-defined</td>\n",
       "      <td>Low</td>\n",
       "      <td>0</td>\n",
       "    </tr>\n",
       "    <tr>\n",
       "      <th>662</th>\n",
       "      <td>50.0</td>\n",
       "      <td>NaN</td>\n",
       "      <td>NaN</td>\n",
       "      <td>Low</td>\n",
       "      <td>1</td>\n",
       "    </tr>\n",
       "    <tr>\n",
       "      <th>752</th>\n",
       "      <td>48.0</td>\n",
       "      <td>NaN</td>\n",
       "      <td>ill-defined</td>\n",
       "      <td>NaN</td>\n",
       "      <td>1</td>\n",
       "    </tr>\n",
       "    <tr>\n",
       "      <th>778</th>\n",
       "      <td>60.0</td>\n",
       "      <td>NaN</td>\n",
       "      <td>ill-defined</td>\n",
       "      <td>Low</td>\n",
       "      <td>0</td>\n",
       "    </tr>\n",
       "    <tr>\n",
       "      <th>824</th>\n",
       "      <td>40.0</td>\n",
       "      <td>NaN</td>\n",
       "      <td>Obscured</td>\n",
       "      <td>Fat-containing</td>\n",
       "      <td>1</td>\n",
       "    </tr>\n",
       "  </tbody>\n",
       "</table>\n",
       "</div>"
      ],
      "text/plain": [
       "      Age Shape         Margin         Density  Target\n",
       "6    70.0   NaN            NaN             Low       0\n",
       "9    60.0   NaN     Spiculated            High       1\n",
       "20   66.0   NaN            NaN            High       1\n",
       "48   42.0   NaN            NaN  Fat-containing       0\n",
       "54   53.0   NaN     Spiculated             Low       1\n",
       "74   70.0   NaN    ill-defined             NaN       1\n",
       "83   57.0   NaN    ill-defined            High       0\n",
       "128  52.0   NaN    ill-defined             NaN       0\n",
       "157  51.0   NaN            NaN             Low       0\n",
       "163  53.0   NaN    ill-defined             Low       0\n",
       "236  60.0   NaN       Obscured            High       0\n",
       "255  76.0   NaN       Obscured             Iso       0\n",
       "387  64.0   NaN            NaN             Low       0\n",
       "388  49.0   NaN       Obscured             Low       0\n",
       "389  44.0   NaN    ill-defined             Low       0\n",
       "394  34.0   NaN            NaN  Fat-containing       0\n",
       "476  41.0   NaN            NaN             Low       0\n",
       "496  82.0   NaN     Spiculated             Low       1\n",
       "519  68.0   NaN            NaN             Low       0\n",
       "531  55.0   NaN            NaN             Low       0\n",
       "537  63.0   NaN    ill-defined             Low       1\n",
       "554  70.0   NaN     Spiculated             Low       1\n",
       "561  59.0   NaN    ill-defined             Low       0\n",
       "581  65.0   NaN  Circumscribed             Iso       0\n",
       "614  46.0   NaN     Spiculated             NaN       1\n",
       "660  58.0   NaN    ill-defined             Low       1\n",
       "661  51.0   NaN    ill-defined             Low       0\n",
       "662  50.0   NaN            NaN             Low       1\n",
       "752  48.0   NaN    ill-defined             NaN       1\n",
       "778  60.0   NaN    ill-defined             Low       0\n",
       "824  40.0   NaN       Obscured  Fat-containing       1"
      ]
     },
     "execution_count": 37,
     "metadata": {},
     "output_type": "execute_result"
    }
   ],
   "source": [
    "shape_null = df_patient.loc[df_patient[\"Shape\"].isnull()]\n",
    "shape_null"
   ]
  },
  {
   "cell_type": "code",
   "execution_count": 38,
   "metadata": {},
   "outputs": [
    {
     "data": {
      "text/plain": [
       "0    19\n",
       "1    12\n",
       "Name: Target, dtype: int64"
      ]
     },
     "execution_count": 38,
     "metadata": {},
     "output_type": "execute_result"
    }
   ],
   "source": [
    "shape_null['Target'].value_counts()"
   ]
  },
  {
   "cell_type": "code",
   "execution_count": 39,
   "metadata": {},
   "outputs": [
    {
     "data": {
      "text/plain": [
       "Irregular    41.62\n",
       "Round        23.31\n",
       "Oval         21.96\n",
       "Lobular       9.89\n",
       "Name: Shape, dtype: float64"
      ]
     },
     "execution_count": 39,
     "metadata": {},
     "output_type": "execute_result"
    }
   ],
   "source": [
    "#Thống kê số lượng các thuộc tính có trong trường Shape\n",
    "round(df_patient['Shape'].value_counts()*100/len(df_patient['Shape']),2)"
   ]
  },
  {
   "cell_type": "code",
   "execution_count": 40,
   "metadata": {},
   "outputs": [],
   "source": [
    "#Thay thế Irregular vào bản ghi missing\n",
    "df_patient['Shape']=df_patient['Shape'].fillna('Irregular')"
   ]
  },
  {
   "cell_type": "code",
   "execution_count": 41,
   "metadata": {},
   "outputs": [
    {
     "data": {
      "text/html": [
       "<div>\n",
       "<style scoped>\n",
       "    .dataframe tbody tr th:only-of-type {\n",
       "        vertical-align: middle;\n",
       "    }\n",
       "\n",
       "    .dataframe tbody tr th {\n",
       "        vertical-align: top;\n",
       "    }\n",
       "\n",
       "    .dataframe thead th {\n",
       "        text-align: right;\n",
       "    }\n",
       "</style>\n",
       "<table border=\"1\" class=\"dataframe\">\n",
       "  <thead>\n",
       "    <tr style=\"text-align: right;\">\n",
       "      <th></th>\n",
       "      <th>Age</th>\n",
       "      <th>Shape</th>\n",
       "      <th>Margin</th>\n",
       "      <th>Density</th>\n",
       "      <th>Target</th>\n",
       "    </tr>\n",
       "  </thead>\n",
       "  <tbody>\n",
       "    <tr>\n",
       "      <th>6</th>\n",
       "      <td>70.0</td>\n",
       "      <td>Irregular</td>\n",
       "      <td>NaN</td>\n",
       "      <td>Low</td>\n",
       "      <td>0</td>\n",
       "    </tr>\n",
       "    <tr>\n",
       "      <th>9</th>\n",
       "      <td>60.0</td>\n",
       "      <td>Irregular</td>\n",
       "      <td>Spiculated</td>\n",
       "      <td>High</td>\n",
       "      <td>1</td>\n",
       "    </tr>\n",
       "    <tr>\n",
       "      <th>20</th>\n",
       "      <td>66.0</td>\n",
       "      <td>Irregular</td>\n",
       "      <td>NaN</td>\n",
       "      <td>High</td>\n",
       "      <td>1</td>\n",
       "    </tr>\n",
       "    <tr>\n",
       "      <th>48</th>\n",
       "      <td>42.0</td>\n",
       "      <td>Irregular</td>\n",
       "      <td>NaN</td>\n",
       "      <td>Fat-containing</td>\n",
       "      <td>0</td>\n",
       "    </tr>\n",
       "  </tbody>\n",
       "</table>\n",
       "</div>"
      ],
      "text/plain": [
       "     Age      Shape      Margin         Density  Target\n",
       "6   70.0  Irregular         NaN             Low       0\n",
       "9   60.0  Irregular  Spiculated            High       1\n",
       "20  66.0  Irregular         NaN            High       1\n",
       "48  42.0  Irregular         NaN  Fat-containing       0"
      ]
     },
     "execution_count": 41,
     "metadata": {},
     "output_type": "execute_result"
    }
   ],
   "source": [
    "df_patient.iloc[[6,9,20,48],:]"
   ]
  },
  {
   "cell_type": "code",
   "execution_count": 42,
   "metadata": {},
   "outputs": [
    {
     "name": "stdout",
     "output_type": "stream",
     "text": [
      "Dữ liệu bao gồm 5 cột.\n",
      "\r",
      " Có 2 cột bị missing dữ liệu\n"
     ]
    },
    {
     "data": {
      "text/html": [
       "<div>\n",
       "<style scoped>\n",
       "    .dataframe tbody tr th:only-of-type {\n",
       "        vertical-align: middle;\n",
       "    }\n",
       "\n",
       "    .dataframe tbody tr th {\n",
       "        vertical-align: top;\n",
       "    }\n",
       "\n",
       "    .dataframe thead th {\n",
       "        text-align: right;\n",
       "    }\n",
       "</style>\n",
       "<table border=\"1\" class=\"dataframe\">\n",
       "  <thead>\n",
       "    <tr style=\"text-align: right;\">\n",
       "      <th></th>\n",
       "      <th>Số giá trị missing</th>\n",
       "      <th>Tỷ lệ % missing</th>\n",
       "    </tr>\n",
       "  </thead>\n",
       "  <tbody>\n",
       "    <tr>\n",
       "      <th>Density</th>\n",
       "      <td>76</td>\n",
       "      <td>7.91</td>\n",
       "    </tr>\n",
       "    <tr>\n",
       "      <th>Margin</th>\n",
       "      <td>48</td>\n",
       "      <td>4.99</td>\n",
       "    </tr>\n",
       "  </tbody>\n",
       "</table>\n",
       "</div>"
      ],
      "text/plain": [
       "         Số giá trị missing  Tỷ lệ % missing\n",
       "Density                  76             7.91\n",
       "Margin                   48             4.99"
      ]
     },
     "execution_count": 42,
     "metadata": {},
     "output_type": "execute_result"
    }
   ],
   "source": [
    "percent_missing_value(df_patient)"
   ]
  },
  {
   "cell_type": "markdown",
   "metadata": {},
   "source": [
    "##### Xử lý giá trị thiếu với thuộc tính Margin\n"
   ]
  },
  {
   "cell_type": "code",
   "execution_count": 43,
   "metadata": {},
   "outputs": [
    {
     "data": {
      "text/html": [
       "<div>\n",
       "<style scoped>\n",
       "    .dataframe tbody tr th:only-of-type {\n",
       "        vertical-align: middle;\n",
       "    }\n",
       "\n",
       "    .dataframe tbody tr th {\n",
       "        vertical-align: top;\n",
       "    }\n",
       "\n",
       "    .dataframe thead th {\n",
       "        text-align: right;\n",
       "    }\n",
       "</style>\n",
       "<table border=\"1\" class=\"dataframe\">\n",
       "  <thead>\n",
       "    <tr style=\"text-align: right;\">\n",
       "      <th></th>\n",
       "      <th>Age</th>\n",
       "      <th>Shape</th>\n",
       "      <th>Margin</th>\n",
       "      <th>Density</th>\n",
       "      <th>Target</th>\n",
       "    </tr>\n",
       "  </thead>\n",
       "  <tbody>\n",
       "    <tr>\n",
       "      <th>5</th>\n",
       "      <td>65.0</td>\n",
       "      <td>Round</td>\n",
       "      <td>NaN</td>\n",
       "      <td>Low</td>\n",
       "      <td>0</td>\n",
       "    </tr>\n",
       "    <tr>\n",
       "      <th>6</th>\n",
       "      <td>70.0</td>\n",
       "      <td>Irregular</td>\n",
       "      <td>NaN</td>\n",
       "      <td>Low</td>\n",
       "      <td>0</td>\n",
       "    </tr>\n",
       "    <tr>\n",
       "      <th>7</th>\n",
       "      <td>42.0</td>\n",
       "      <td>Round</td>\n",
       "      <td>NaN</td>\n",
       "      <td>Low</td>\n",
       "      <td>0</td>\n",
       "    </tr>\n",
       "    <tr>\n",
       "      <th>12</th>\n",
       "      <td>64.0</td>\n",
       "      <td>Round</td>\n",
       "      <td>NaN</td>\n",
       "      <td>Low</td>\n",
       "      <td>0</td>\n",
       "    </tr>\n",
       "    <tr>\n",
       "      <th>19</th>\n",
       "      <td>40.0</td>\n",
       "      <td>Round</td>\n",
       "      <td>NaN</td>\n",
       "      <td>NaN</td>\n",
       "      <td>0</td>\n",
       "    </tr>\n",
       "    <tr>\n",
       "      <th>20</th>\n",
       "      <td>66.0</td>\n",
       "      <td>Irregular</td>\n",
       "      <td>NaN</td>\n",
       "      <td>High</td>\n",
       "      <td>1</td>\n",
       "    </tr>\n",
       "    <tr>\n",
       "      <th>22</th>\n",
       "      <td>43.0</td>\n",
       "      <td>Round</td>\n",
       "      <td>NaN</td>\n",
       "      <td>NaN</td>\n",
       "      <td>0</td>\n",
       "    </tr>\n",
       "    <tr>\n",
       "      <th>27</th>\n",
       "      <td>63.0</td>\n",
       "      <td>Lobular</td>\n",
       "      <td>NaN</td>\n",
       "      <td>Low</td>\n",
       "      <td>0</td>\n",
       "    </tr>\n",
       "    <tr>\n",
       "      <th>35</th>\n",
       "      <td>77.0</td>\n",
       "      <td>Lobular</td>\n",
       "      <td>NaN</td>\n",
       "      <td>NaN</td>\n",
       "      <td>0</td>\n",
       "    </tr>\n",
       "    <tr>\n",
       "      <th>48</th>\n",
       "      <td>42.0</td>\n",
       "      <td>Irregular</td>\n",
       "      <td>NaN</td>\n",
       "      <td>Fat-containing</td>\n",
       "      <td>0</td>\n",
       "    </tr>\n",
       "    <tr>\n",
       "      <th>59</th>\n",
       "      <td>59.0</td>\n",
       "      <td>Oval</td>\n",
       "      <td>NaN</td>\n",
       "      <td>NaN</td>\n",
       "      <td>1</td>\n",
       "    </tr>\n",
       "    <tr>\n",
       "      <th>84</th>\n",
       "      <td>51.0</td>\n",
       "      <td>Irregular</td>\n",
       "      <td>NaN</td>\n",
       "      <td>NaN</td>\n",
       "      <td>1</td>\n",
       "    </tr>\n",
       "    <tr>\n",
       "      <th>85</th>\n",
       "      <td>33.0</td>\n",
       "      <td>Round</td>\n",
       "      <td>NaN</td>\n",
       "      <td>NaN</td>\n",
       "      <td>0</td>\n",
       "    </tr>\n",
       "    <tr>\n",
       "      <th>87</th>\n",
       "      <td>36.0</td>\n",
       "      <td>Round</td>\n",
       "      <td>NaN</td>\n",
       "      <td>NaN</td>\n",
       "      <td>0</td>\n",
       "    </tr>\n",
       "    <tr>\n",
       "      <th>94</th>\n",
       "      <td>60.0</td>\n",
       "      <td>Round</td>\n",
       "      <td>NaN</td>\n",
       "      <td>Low</td>\n",
       "      <td>0</td>\n",
       "    </tr>\n",
       "    <tr>\n",
       "      <th>100</th>\n",
       "      <td>59.0</td>\n",
       "      <td>Oval</td>\n",
       "      <td>NaN</td>\n",
       "      <td>NaN</td>\n",
       "      <td>0</td>\n",
       "    </tr>\n",
       "    <tr>\n",
       "      <th>101</th>\n",
       "      <td>65.0</td>\n",
       "      <td>Oval</td>\n",
       "      <td>NaN</td>\n",
       "      <td>NaN</td>\n",
       "      <td>0</td>\n",
       "    </tr>\n",
       "    <tr>\n",
       "      <th>103</th>\n",
       "      <td>29.0</td>\n",
       "      <td>Oval</td>\n",
       "      <td>NaN</td>\n",
       "      <td>NaN</td>\n",
       "      <td>0</td>\n",
       "    </tr>\n",
       "    <tr>\n",
       "      <th>133</th>\n",
       "      <td>60.0</td>\n",
       "      <td>Oval</td>\n",
       "      <td>NaN</td>\n",
       "      <td>NaN</td>\n",
       "      <td>0</td>\n",
       "    </tr>\n",
       "    <tr>\n",
       "      <th>147</th>\n",
       "      <td>63.0</td>\n",
       "      <td>Irregular</td>\n",
       "      <td>NaN</td>\n",
       "      <td>Low</td>\n",
       "      <td>1</td>\n",
       "    </tr>\n",
       "    <tr>\n",
       "      <th>156</th>\n",
       "      <td>55.0</td>\n",
       "      <td>Oval</td>\n",
       "      <td>NaN</td>\n",
       "      <td>NaN</td>\n",
       "      <td>1</td>\n",
       "    </tr>\n",
       "    <tr>\n",
       "      <th>157</th>\n",
       "      <td>51.0</td>\n",
       "      <td>Irregular</td>\n",
       "      <td>NaN</td>\n",
       "      <td>Low</td>\n",
       "      <td>0</td>\n",
       "    </tr>\n",
       "    <tr>\n",
       "      <th>159</th>\n",
       "      <td>58.0</td>\n",
       "      <td>Irregular</td>\n",
       "      <td>NaN</td>\n",
       "      <td>Low</td>\n",
       "      <td>1</td>\n",
       "    </tr>\n",
       "    <tr>\n",
       "      <th>187</th>\n",
       "      <td>67.0</td>\n",
       "      <td>Round</td>\n",
       "      <td>NaN</td>\n",
       "      <td>Low</td>\n",
       "      <td>0</td>\n",
       "    </tr>\n",
       "    <tr>\n",
       "      <th>227</th>\n",
       "      <td>55.0</td>\n",
       "      <td>Round</td>\n",
       "      <td>NaN</td>\n",
       "      <td>High</td>\n",
       "      <td>0</td>\n",
       "    </tr>\n",
       "    <tr>\n",
       "      <th>278</th>\n",
       "      <td>79.0</td>\n",
       "      <td>Round</td>\n",
       "      <td>NaN</td>\n",
       "      <td>Low</td>\n",
       "      <td>1</td>\n",
       "    </tr>\n",
       "    <tr>\n",
       "      <th>298</th>\n",
       "      <td>71.0</td>\n",
       "      <td>Round</td>\n",
       "      <td>NaN</td>\n",
       "      <td>Low</td>\n",
       "      <td>0</td>\n",
       "    </tr>\n",
       "    <tr>\n",
       "      <th>305</th>\n",
       "      <td>54.0</td>\n",
       "      <td>Round</td>\n",
       "      <td>NaN</td>\n",
       "      <td>NaN</td>\n",
       "      <td>0</td>\n",
       "    </tr>\n",
       "    <tr>\n",
       "      <th>315</th>\n",
       "      <td>71.0</td>\n",
       "      <td>Oval</td>\n",
       "      <td>NaN</td>\n",
       "      <td>Low</td>\n",
       "      <td>1</td>\n",
       "    </tr>\n",
       "    <tr>\n",
       "      <th>359</th>\n",
       "      <td>46.0</td>\n",
       "      <td>Lobular</td>\n",
       "      <td>NaN</td>\n",
       "      <td>Low</td>\n",
       "      <td>0</td>\n",
       "    </tr>\n",
       "    <tr>\n",
       "      <th>371</th>\n",
       "      <td>46.0</td>\n",
       "      <td>Round</td>\n",
       "      <td>NaN</td>\n",
       "      <td>NaN</td>\n",
       "      <td>0</td>\n",
       "    </tr>\n",
       "    <tr>\n",
       "      <th>372</th>\n",
       "      <td>43.0</td>\n",
       "      <td>Round</td>\n",
       "      <td>NaN</td>\n",
       "      <td>NaN</td>\n",
       "      <td>0</td>\n",
       "    </tr>\n",
       "    <tr>\n",
       "      <th>387</th>\n",
       "      <td>64.0</td>\n",
       "      <td>Irregular</td>\n",
       "      <td>NaN</td>\n",
       "      <td>Low</td>\n",
       "      <td>0</td>\n",
       "    </tr>\n",
       "    <tr>\n",
       "      <th>394</th>\n",
       "      <td>34.0</td>\n",
       "      <td>Irregular</td>\n",
       "      <td>NaN</td>\n",
       "      <td>Fat-containing</td>\n",
       "      <td>0</td>\n",
       "    </tr>\n",
       "    <tr>\n",
       "      <th>452</th>\n",
       "      <td>57.0</td>\n",
       "      <td>Lobular</td>\n",
       "      <td>NaN</td>\n",
       "      <td>Low</td>\n",
       "      <td>0</td>\n",
       "    </tr>\n",
       "    <tr>\n",
       "      <th>459</th>\n",
       "      <td>40.0</td>\n",
       "      <td>Oval</td>\n",
       "      <td>NaN</td>\n",
       "      <td>Low</td>\n",
       "      <td>0</td>\n",
       "    </tr>\n",
       "    <tr>\n",
       "      <th>476</th>\n",
       "      <td>41.0</td>\n",
       "      <td>Irregular</td>\n",
       "      <td>NaN</td>\n",
       "      <td>Low</td>\n",
       "      <td>0</td>\n",
       "    </tr>\n",
       "    <tr>\n",
       "      <th>519</th>\n",
       "      <td>68.0</td>\n",
       "      <td>Irregular</td>\n",
       "      <td>NaN</td>\n",
       "      <td>Low</td>\n",
       "      <td>0</td>\n",
       "    </tr>\n",
       "    <tr>\n",
       "      <th>520</th>\n",
       "      <td>62.0</td>\n",
       "      <td>Irregular</td>\n",
       "      <td>NaN</td>\n",
       "      <td>Low</td>\n",
       "      <td>1</td>\n",
       "    </tr>\n",
       "    <tr>\n",
       "      <th>521</th>\n",
       "      <td>65.0</td>\n",
       "      <td>Round</td>\n",
       "      <td>NaN</td>\n",
       "      <td>Low</td>\n",
       "      <td>1</td>\n",
       "    </tr>\n",
       "    <tr>\n",
       "      <th>531</th>\n",
       "      <td>55.0</td>\n",
       "      <td>Irregular</td>\n",
       "      <td>NaN</td>\n",
       "      <td>Low</td>\n",
       "      <td>0</td>\n",
       "    </tr>\n",
       "    <tr>\n",
       "      <th>541</th>\n",
       "      <td>49.0</td>\n",
       "      <td>Oval</td>\n",
       "      <td>NaN</td>\n",
       "      <td>Low</td>\n",
       "      <td>0</td>\n",
       "    </tr>\n",
       "    <tr>\n",
       "      <th>574</th>\n",
       "      <td>60.0</td>\n",
       "      <td>Lobular</td>\n",
       "      <td>NaN</td>\n",
       "      <td>NaN</td>\n",
       "      <td>0</td>\n",
       "    </tr>\n",
       "    <tr>\n",
       "      <th>662</th>\n",
       "      <td>50.0</td>\n",
       "      <td>Irregular</td>\n",
       "      <td>NaN</td>\n",
       "      <td>Low</td>\n",
       "      <td>1</td>\n",
       "    </tr>\n",
       "    <tr>\n",
       "      <th>691</th>\n",
       "      <td>72.0</td>\n",
       "      <td>Lobular</td>\n",
       "      <td>NaN</td>\n",
       "      <td>Low</td>\n",
       "      <td>0</td>\n",
       "    </tr>\n",
       "    <tr>\n",
       "      <th>723</th>\n",
       "      <td>60.0</td>\n",
       "      <td>Lobular</td>\n",
       "      <td>NaN</td>\n",
       "      <td>Fat-containing</td>\n",
       "      <td>0</td>\n",
       "    </tr>\n",
       "    <tr>\n",
       "      <th>745</th>\n",
       "      <td>76.0</td>\n",
       "      <td>Lobular</td>\n",
       "      <td>NaN</td>\n",
       "      <td>Low</td>\n",
       "      <td>0</td>\n",
       "    </tr>\n",
       "    <tr>\n",
       "      <th>819</th>\n",
       "      <td>35.0</td>\n",
       "      <td>Lobular</td>\n",
       "      <td>NaN</td>\n",
       "      <td>Iso</td>\n",
       "      <td>0</td>\n",
       "    </tr>\n",
       "  </tbody>\n",
       "</table>\n",
       "</div>"
      ],
      "text/plain": [
       "      Age      Shape Margin         Density  Target\n",
       "5    65.0      Round    NaN             Low       0\n",
       "6    70.0  Irregular    NaN             Low       0\n",
       "7    42.0      Round    NaN             Low       0\n",
       "12   64.0      Round    NaN             Low       0\n",
       "19   40.0      Round    NaN             NaN       0\n",
       "20   66.0  Irregular    NaN            High       1\n",
       "22   43.0      Round    NaN             NaN       0\n",
       "27   63.0    Lobular    NaN             Low       0\n",
       "35   77.0    Lobular    NaN             NaN       0\n",
       "48   42.0  Irregular    NaN  Fat-containing       0\n",
       "59   59.0       Oval    NaN             NaN       1\n",
       "84   51.0  Irregular    NaN             NaN       1\n",
       "85   33.0      Round    NaN             NaN       0\n",
       "87   36.0      Round    NaN             NaN       0\n",
       "94   60.0      Round    NaN             Low       0\n",
       "100  59.0       Oval    NaN             NaN       0\n",
       "101  65.0       Oval    NaN             NaN       0\n",
       "103  29.0       Oval    NaN             NaN       0\n",
       "133  60.0       Oval    NaN             NaN       0\n",
       "147  63.0  Irregular    NaN             Low       1\n",
       "156  55.0       Oval    NaN             NaN       1\n",
       "157  51.0  Irregular    NaN             Low       0\n",
       "159  58.0  Irregular    NaN             Low       1\n",
       "187  67.0      Round    NaN             Low       0\n",
       "227  55.0      Round    NaN            High       0\n",
       "278  79.0      Round    NaN             Low       1\n",
       "298  71.0      Round    NaN             Low       0\n",
       "305  54.0      Round    NaN             NaN       0\n",
       "315  71.0       Oval    NaN             Low       1\n",
       "359  46.0    Lobular    NaN             Low       0\n",
       "371  46.0      Round    NaN             NaN       0\n",
       "372  43.0      Round    NaN             NaN       0\n",
       "387  64.0  Irregular    NaN             Low       0\n",
       "394  34.0  Irregular    NaN  Fat-containing       0\n",
       "452  57.0    Lobular    NaN             Low       0\n",
       "459  40.0       Oval    NaN             Low       0\n",
       "476  41.0  Irregular    NaN             Low       0\n",
       "519  68.0  Irregular    NaN             Low       0\n",
       "520  62.0  Irregular    NaN             Low       1\n",
       "521  65.0      Round    NaN             Low       1\n",
       "531  55.0  Irregular    NaN             Low       0\n",
       "541  49.0       Oval    NaN             Low       0\n",
       "574  60.0    Lobular    NaN             NaN       0\n",
       "662  50.0  Irregular    NaN             Low       1\n",
       "691  72.0    Lobular    NaN             Low       0\n",
       "723  60.0    Lobular    NaN  Fat-containing       0\n",
       "745  76.0    Lobular    NaN             Low       0\n",
       "819  35.0    Lobular    NaN             Iso       0"
      ]
     },
     "execution_count": 43,
     "metadata": {},
     "output_type": "execute_result"
    }
   ],
   "source": [
    "margin = df_patient.loc[df_patient['Margin'].isnull()]\n",
    "margin"
   ]
  },
  {
   "cell_type": "code",
   "execution_count": 44,
   "metadata": {},
   "outputs": [
    {
     "data": {
      "text/plain": [
       "0    37\n",
       "1    11\n",
       "Name: Target, dtype: int64"
      ]
     },
     "execution_count": 44,
     "metadata": {},
     "output_type": "execute_result"
    }
   ],
   "source": [
    "margin['Target'].value_counts()"
   ]
  },
  {
   "cell_type": "code",
   "execution_count": 45,
   "metadata": {},
   "outputs": [
    {
     "data": {
      "text/plain": [
       "Circumscribed     357\n",
       "ill-defined       280\n",
       "Spiculated        136\n",
       "Obscured          116\n",
       "Microlobulated     24\n",
       "Name: Margin, dtype: int64"
      ]
     },
     "execution_count": 45,
     "metadata": {},
     "output_type": "execute_result"
    }
   ],
   "source": [
    "df_patient['Margin'].value_counts()"
   ]
  },
  {
   "cell_type": "code",
   "execution_count": 46,
   "metadata": {},
   "outputs": [],
   "source": [
    "df_patient['Margin']=df_patient['Margin'].fillna('Circumscribed')"
   ]
  },
  {
   "cell_type": "code",
   "execution_count": 47,
   "metadata": {},
   "outputs": [
    {
     "data": {
      "text/html": [
       "<div>\n",
       "<style scoped>\n",
       "    .dataframe tbody tr th:only-of-type {\n",
       "        vertical-align: middle;\n",
       "    }\n",
       "\n",
       "    .dataframe tbody tr th {\n",
       "        vertical-align: top;\n",
       "    }\n",
       "\n",
       "    .dataframe thead th {\n",
       "        text-align: right;\n",
       "    }\n",
       "</style>\n",
       "<table border=\"1\" class=\"dataframe\">\n",
       "  <thead>\n",
       "    <tr style=\"text-align: right;\">\n",
       "      <th></th>\n",
       "      <th>Age</th>\n",
       "      <th>Shape</th>\n",
       "      <th>Margin</th>\n",
       "      <th>Density</th>\n",
       "      <th>Target</th>\n",
       "    </tr>\n",
       "  </thead>\n",
       "  <tbody>\n",
       "    <tr>\n",
       "      <th>662</th>\n",
       "      <td>50.0</td>\n",
       "      <td>Irregular</td>\n",
       "      <td>Circumscribed</td>\n",
       "      <td>Low</td>\n",
       "      <td>1</td>\n",
       "    </tr>\n",
       "    <tr>\n",
       "      <th>691</th>\n",
       "      <td>72.0</td>\n",
       "      <td>Lobular</td>\n",
       "      <td>Circumscribed</td>\n",
       "      <td>Low</td>\n",
       "      <td>0</td>\n",
       "    </tr>\n",
       "    <tr>\n",
       "      <th>723</th>\n",
       "      <td>60.0</td>\n",
       "      <td>Lobular</td>\n",
       "      <td>Circumscribed</td>\n",
       "      <td>Fat-containing</td>\n",
       "      <td>0</td>\n",
       "    </tr>\n",
       "    <tr>\n",
       "      <th>745</th>\n",
       "      <td>76.0</td>\n",
       "      <td>Lobular</td>\n",
       "      <td>Circumscribed</td>\n",
       "      <td>Low</td>\n",
       "      <td>0</td>\n",
       "    </tr>\n",
       "    <tr>\n",
       "      <th>891</th>\n",
       "      <td>42.0</td>\n",
       "      <td>Round</td>\n",
       "      <td>Circumscribed</td>\n",
       "      <td>High</td>\n",
       "      <td>1</td>\n",
       "    </tr>\n",
       "  </tbody>\n",
       "</table>\n",
       "</div>"
      ],
      "text/plain": [
       "      Age      Shape         Margin         Density  Target\n",
       "662  50.0  Irregular  Circumscribed             Low       1\n",
       "691  72.0    Lobular  Circumscribed             Low       0\n",
       "723  60.0    Lobular  Circumscribed  Fat-containing       0\n",
       "745  76.0    Lobular  Circumscribed             Low       0\n",
       "891  42.0      Round  Circumscribed            High       1"
      ]
     },
     "execution_count": 47,
     "metadata": {},
     "output_type": "execute_result"
    }
   ],
   "source": [
    "#Kiểm tra các giá trị đc fill\n",
    "df_patient.iloc[[662,691,723,745,891],:]"
   ]
  },
  {
   "cell_type": "code",
   "execution_count": 48,
   "metadata": {},
   "outputs": [
    {
     "name": "stdout",
     "output_type": "stream",
     "text": [
      "Dữ liệu bao gồm 5 cột.\n",
      "\r",
      " Có 1 cột bị missing dữ liệu\n"
     ]
    },
    {
     "data": {
      "text/html": [
       "<div>\n",
       "<style scoped>\n",
       "    .dataframe tbody tr th:only-of-type {\n",
       "        vertical-align: middle;\n",
       "    }\n",
       "\n",
       "    .dataframe tbody tr th {\n",
       "        vertical-align: top;\n",
       "    }\n",
       "\n",
       "    .dataframe thead th {\n",
       "        text-align: right;\n",
       "    }\n",
       "</style>\n",
       "<table border=\"1\" class=\"dataframe\">\n",
       "  <thead>\n",
       "    <tr style=\"text-align: right;\">\n",
       "      <th></th>\n",
       "      <th>Số giá trị missing</th>\n",
       "      <th>Tỷ lệ % missing</th>\n",
       "    </tr>\n",
       "  </thead>\n",
       "  <tbody>\n",
       "    <tr>\n",
       "      <th>Density</th>\n",
       "      <td>76</td>\n",
       "      <td>7.91</td>\n",
       "    </tr>\n",
       "  </tbody>\n",
       "</table>\n",
       "</div>"
      ],
      "text/plain": [
       "         Số giá trị missing  Tỷ lệ % missing\n",
       "Density                  76             7.91"
      ]
     },
     "execution_count": 48,
     "metadata": {},
     "output_type": "execute_result"
    }
   ],
   "source": [
    "percent_missing_value(df_patient)"
   ]
  },
  {
   "cell_type": "code",
   "execution_count": 49,
   "metadata": {},
   "outputs": [
    {
     "data": {
      "text/html": [
       "<div>\n",
       "<style scoped>\n",
       "    .dataframe tbody tr th:only-of-type {\n",
       "        vertical-align: middle;\n",
       "    }\n",
       "\n",
       "    .dataframe tbody tr th {\n",
       "        vertical-align: top;\n",
       "    }\n",
       "\n",
       "    .dataframe thead th {\n",
       "        text-align: right;\n",
       "    }\n",
       "</style>\n",
       "<table border=\"1\" class=\"dataframe\">\n",
       "  <thead>\n",
       "    <tr style=\"text-align: right;\">\n",
       "      <th></th>\n",
       "      <th>Age</th>\n",
       "      <th>Shape</th>\n",
       "      <th>Margin</th>\n",
       "      <th>Density</th>\n",
       "      <th>Target</th>\n",
       "    </tr>\n",
       "  </thead>\n",
       "  <tbody>\n",
       "    <tr>\n",
       "      <th>1</th>\n",
       "      <td>43.0</td>\n",
       "      <td>Round</td>\n",
       "      <td>Circumscribed</td>\n",
       "      <td>NaN</td>\n",
       "      <td>1</td>\n",
       "    </tr>\n",
       "    <tr>\n",
       "      <th>4</th>\n",
       "      <td>74.0</td>\n",
       "      <td>Round</td>\n",
       "      <td>Spiculated</td>\n",
       "      <td>NaN</td>\n",
       "      <td>1</td>\n",
       "    </tr>\n",
       "    <tr>\n",
       "      <th>19</th>\n",
       "      <td>40.0</td>\n",
       "      <td>Round</td>\n",
       "      <td>Circumscribed</td>\n",
       "      <td>NaN</td>\n",
       "      <td>0</td>\n",
       "    </tr>\n",
       "    <tr>\n",
       "      <th>22</th>\n",
       "      <td>43.0</td>\n",
       "      <td>Round</td>\n",
       "      <td>Circumscribed</td>\n",
       "      <td>NaN</td>\n",
       "      <td>0</td>\n",
       "    </tr>\n",
       "    <tr>\n",
       "      <th>26</th>\n",
       "      <td>66.0</td>\n",
       "      <td>Round</td>\n",
       "      <td>Circumscribed</td>\n",
       "      <td>NaN</td>\n",
       "      <td>0</td>\n",
       "    </tr>\n",
       "    <tr>\n",
       "      <th>...</th>\n",
       "      <td>...</td>\n",
       "      <td>...</td>\n",
       "      <td>...</td>\n",
       "      <td>...</td>\n",
       "      <td>...</td>\n",
       "    </tr>\n",
       "    <tr>\n",
       "      <th>614</th>\n",
       "      <td>46.0</td>\n",
       "      <td>Irregular</td>\n",
       "      <td>Spiculated</td>\n",
       "      <td>NaN</td>\n",
       "      <td>1</td>\n",
       "    </tr>\n",
       "    <tr>\n",
       "      <th>627</th>\n",
       "      <td>57.0</td>\n",
       "      <td>Oval</td>\n",
       "      <td>Circumscribed</td>\n",
       "      <td>NaN</td>\n",
       "      <td>0</td>\n",
       "    </tr>\n",
       "    <tr>\n",
       "      <th>665</th>\n",
       "      <td>27.0</td>\n",
       "      <td>Oval</td>\n",
       "      <td>Circumscribed</td>\n",
       "      <td>NaN</td>\n",
       "      <td>0</td>\n",
       "    </tr>\n",
       "    <tr>\n",
       "      <th>677</th>\n",
       "      <td>57.0</td>\n",
       "      <td>Irregular</td>\n",
       "      <td>ill-defined</td>\n",
       "      <td>NaN</td>\n",
       "      <td>1</td>\n",
       "    </tr>\n",
       "    <tr>\n",
       "      <th>752</th>\n",
       "      <td>48.0</td>\n",
       "      <td>Irregular</td>\n",
       "      <td>ill-defined</td>\n",
       "      <td>NaN</td>\n",
       "      <td>1</td>\n",
       "    </tr>\n",
       "  </tbody>\n",
       "</table>\n",
       "<p>76 rows × 5 columns</p>\n",
       "</div>"
      ],
      "text/plain": [
       "      Age      Shape         Margin Density  Target\n",
       "1    43.0      Round  Circumscribed     NaN       1\n",
       "4    74.0      Round     Spiculated     NaN       1\n",
       "19   40.0      Round  Circumscribed     NaN       0\n",
       "22   43.0      Round  Circumscribed     NaN       0\n",
       "26   66.0      Round  Circumscribed     NaN       0\n",
       "..    ...        ...            ...     ...     ...\n",
       "614  46.0  Irregular     Spiculated     NaN       1\n",
       "627  57.0       Oval  Circumscribed     NaN       0\n",
       "665  27.0       Oval  Circumscribed     NaN       0\n",
       "677  57.0  Irregular    ill-defined     NaN       1\n",
       "752  48.0  Irregular    ill-defined     NaN       1\n",
       "\n",
       "[76 rows x 5 columns]"
      ]
     },
     "execution_count": 49,
     "metadata": {},
     "output_type": "execute_result"
    }
   ],
   "source": [
    "df_patient[df_patient[\"Density\"].isnull()]"
   ]
  },
  {
   "cell_type": "code",
   "execution_count": 50,
   "metadata": {},
   "outputs": [
    {
     "data": {
      "text/plain": [
       "Low               798\n",
       "Iso                59\n",
       "High               16\n",
       "Fat-containing     12\n",
       "Name: Density, dtype: int64"
      ]
     },
     "execution_count": 50,
     "metadata": {},
     "output_type": "execute_result"
    }
   ],
   "source": [
    "df_patient['Density'].value_counts()"
   ]
  },
  {
   "cell_type": "code",
   "execution_count": 51,
   "metadata": {},
   "outputs": [],
   "source": [
    "df_patient['Density']=df_patient['Density'].fillna('Low')"
   ]
  },
  {
   "cell_type": "code",
   "execution_count": 52,
   "metadata": {},
   "outputs": [
    {
     "data": {
      "text/html": [
       "<div>\n",
       "<style scoped>\n",
       "    .dataframe tbody tr th:only-of-type {\n",
       "        vertical-align: middle;\n",
       "    }\n",
       "\n",
       "    .dataframe tbody tr th {\n",
       "        vertical-align: top;\n",
       "    }\n",
       "\n",
       "    .dataframe thead th {\n",
       "        text-align: right;\n",
       "    }\n",
       "</style>\n",
       "<table border=\"1\" class=\"dataframe\">\n",
       "  <thead>\n",
       "    <tr style=\"text-align: right;\">\n",
       "      <th></th>\n",
       "      <th>Age</th>\n",
       "      <th>Shape</th>\n",
       "      <th>Margin</th>\n",
       "      <th>Density</th>\n",
       "      <th>Target</th>\n",
       "    </tr>\n",
       "  </thead>\n",
       "  <tbody>\n",
       "    <tr>\n",
       "      <th>614</th>\n",
       "      <td>46.0</td>\n",
       "      <td>Irregular</td>\n",
       "      <td>Spiculated</td>\n",
       "      <td>Low</td>\n",
       "      <td>1</td>\n",
       "    </tr>\n",
       "    <tr>\n",
       "      <th>627</th>\n",
       "      <td>57.0</td>\n",
       "      <td>Oval</td>\n",
       "      <td>Circumscribed</td>\n",
       "      <td>Low</td>\n",
       "      <td>0</td>\n",
       "    </tr>\n",
       "    <tr>\n",
       "      <th>665</th>\n",
       "      <td>27.0</td>\n",
       "      <td>Oval</td>\n",
       "      <td>Circumscribed</td>\n",
       "      <td>Low</td>\n",
       "      <td>0</td>\n",
       "    </tr>\n",
       "    <tr>\n",
       "      <th>677</th>\n",
       "      <td>57.0</td>\n",
       "      <td>Irregular</td>\n",
       "      <td>ill-defined</td>\n",
       "      <td>Low</td>\n",
       "      <td>1</td>\n",
       "    </tr>\n",
       "    <tr>\n",
       "      <th>752</th>\n",
       "      <td>48.0</td>\n",
       "      <td>Irregular</td>\n",
       "      <td>ill-defined</td>\n",
       "      <td>Low</td>\n",
       "      <td>1</td>\n",
       "    </tr>\n",
       "  </tbody>\n",
       "</table>\n",
       "</div>"
      ],
      "text/plain": [
       "      Age      Shape         Margin Density  Target\n",
       "614  46.0  Irregular     Spiculated     Low       1\n",
       "627  57.0       Oval  Circumscribed     Low       0\n",
       "665  27.0       Oval  Circumscribed     Low       0\n",
       "677  57.0  Irregular    ill-defined     Low       1\n",
       "752  48.0  Irregular    ill-defined     Low       1"
      ]
     },
     "execution_count": 52,
     "metadata": {},
     "output_type": "execute_result"
    }
   ],
   "source": [
    "#Hiển thị các giá trị fill\n",
    "df_patient.iloc[[614,627,665,677,752],:]"
   ]
  },
  {
   "cell_type": "markdown",
   "metadata": {},
   "source": [
    "#### C) Rời rạc hóa dữ liệu"
   ]
  },
  {
   "cell_type": "code",
   "execution_count": 53,
   "metadata": {},
   "outputs": [
    {
     "data": {
      "text/html": [
       "<div>\n",
       "<style scoped>\n",
       "    .dataframe tbody tr th:only-of-type {\n",
       "        vertical-align: middle;\n",
       "    }\n",
       "\n",
       "    .dataframe tbody tr th {\n",
       "        vertical-align: top;\n",
       "    }\n",
       "\n",
       "    .dataframe thead th {\n",
       "        text-align: right;\n",
       "    }\n",
       "</style>\n",
       "<table border=\"1\" class=\"dataframe\">\n",
       "  <thead>\n",
       "    <tr style=\"text-align: right;\">\n",
       "      <th></th>\n",
       "      <th>Age</th>\n",
       "      <th>Target</th>\n",
       "    </tr>\n",
       "  </thead>\n",
       "  <tbody>\n",
       "    <tr>\n",
       "      <th>count</th>\n",
       "      <td>961.000000</td>\n",
       "      <td>961.000000</td>\n",
       "    </tr>\n",
       "    <tr>\n",
       "      <th>mean</th>\n",
       "      <td>55.528616</td>\n",
       "      <td>0.463059</td>\n",
       "    </tr>\n",
       "    <tr>\n",
       "      <th>std</th>\n",
       "      <td>14.453714</td>\n",
       "      <td>0.498893</td>\n",
       "    </tr>\n",
       "    <tr>\n",
       "      <th>min</th>\n",
       "      <td>18.000000</td>\n",
       "      <td>0.000000</td>\n",
       "    </tr>\n",
       "    <tr>\n",
       "      <th>25%</th>\n",
       "      <td>45.000000</td>\n",
       "      <td>0.000000</td>\n",
       "    </tr>\n",
       "    <tr>\n",
       "      <th>50%</th>\n",
       "      <td>57.000000</td>\n",
       "      <td>0.000000</td>\n",
       "    </tr>\n",
       "    <tr>\n",
       "      <th>75%</th>\n",
       "      <td>66.000000</td>\n",
       "      <td>1.000000</td>\n",
       "    </tr>\n",
       "    <tr>\n",
       "      <th>max</th>\n",
       "      <td>96.000000</td>\n",
       "      <td>1.000000</td>\n",
       "    </tr>\n",
       "  </tbody>\n",
       "</table>\n",
       "</div>"
      ],
      "text/plain": [
       "              Age      Target\n",
       "count  961.000000  961.000000\n",
       "mean    55.528616    0.463059\n",
       "std     14.453714    0.498893\n",
       "min     18.000000    0.000000\n",
       "25%     45.000000    0.000000\n",
       "50%     57.000000    0.000000\n",
       "75%     66.000000    1.000000\n",
       "max     96.000000    1.000000"
      ]
     },
     "execution_count": 53,
     "metadata": {},
     "output_type": "execute_result"
    }
   ],
   "source": [
    "df_patient.describe()"
   ]
  },
  {
   "cell_type": "code",
   "execution_count": 54,
   "metadata": {},
   "outputs": [
    {
     "data": {
      "text/html": [
       "<div>\n",
       "<style scoped>\n",
       "    .dataframe tbody tr th:only-of-type {\n",
       "        vertical-align: middle;\n",
       "    }\n",
       "\n",
       "    .dataframe tbody tr th {\n",
       "        vertical-align: top;\n",
       "    }\n",
       "\n",
       "    .dataframe thead th {\n",
       "        text-align: right;\n",
       "    }\n",
       "</style>\n",
       "<table border=\"1\" class=\"dataframe\">\n",
       "  <thead>\n",
       "    <tr style=\"text-align: right;\">\n",
       "      <th></th>\n",
       "      <th>AgeBand</th>\n",
       "      <th>Target</th>\n",
       "    </tr>\n",
       "  </thead>\n",
       "  <tbody>\n",
       "    <tr>\n",
       "      <th>4</th>\n",
       "      <td>(80.4, 96.0]</td>\n",
       "      <td>0.892857</td>\n",
       "    </tr>\n",
       "    <tr>\n",
       "      <th>3</th>\n",
       "      <td>(64.8, 80.4]</td>\n",
       "      <td>0.728000</td>\n",
       "    </tr>\n",
       "    <tr>\n",
       "      <th>2</th>\n",
       "      <td>(49.2, 64.8]</td>\n",
       "      <td>0.458791</td>\n",
       "    </tr>\n",
       "    <tr>\n",
       "      <th>1</th>\n",
       "      <td>(33.6, 49.2]</td>\n",
       "      <td>0.269076</td>\n",
       "    </tr>\n",
       "    <tr>\n",
       "      <th>0</th>\n",
       "      <td>(17.922, 33.6]</td>\n",
       "      <td>0.057143</td>\n",
       "    </tr>\n",
       "  </tbody>\n",
       "</table>\n",
       "</div>"
      ],
      "text/plain": [
       "          AgeBand    Target\n",
       "4    (80.4, 96.0]  0.892857\n",
       "3    (64.8, 80.4]  0.728000\n",
       "2    (49.2, 64.8]  0.458791\n",
       "1    (33.6, 49.2]  0.269076\n",
       "0  (17.922, 33.6]  0.057143"
      ]
     },
     "execution_count": 54,
     "metadata": {},
     "output_type": "execute_result"
    }
   ],
   "source": [
    "#Tỷ lệ bị u ác tính theo từng khoảng tuổi\n",
    "n=5\n",
    "temp_patient = df_patient.copy()\n",
    "temp_patient['AgeBand'] = pd.cut(df_patient['Age'],n) \n",
    "\n",
    "temp_patient[['AgeBand','Target']].groupby(['AgeBand'], as_index=False).mean().sort_values(by='AgeBand', ascending=False)"
   ]
  },
  {
   "cell_type": "code",
   "execution_count": 55,
   "metadata": {},
   "outputs": [
    {
     "data": {
      "text/html": [
       "<div>\n",
       "<style scoped>\n",
       "    .dataframe tbody tr th:only-of-type {\n",
       "        vertical-align: middle;\n",
       "    }\n",
       "\n",
       "    .dataframe tbody tr th {\n",
       "        vertical-align: top;\n",
       "    }\n",
       "\n",
       "    .dataframe thead th {\n",
       "        text-align: right;\n",
       "    }\n",
       "</style>\n",
       "<table border=\"1\" class=\"dataframe\">\n",
       "  <thead>\n",
       "    <tr style=\"text-align: right;\">\n",
       "      <th></th>\n",
       "      <th>Age</th>\n",
       "      <th>Shape</th>\n",
       "      <th>Margin</th>\n",
       "      <th>Density</th>\n",
       "      <th>Target</th>\n",
       "      <th>AgeBand</th>\n",
       "    </tr>\n",
       "  </thead>\n",
       "  <tbody>\n",
       "    <tr>\n",
       "      <th>919</th>\n",
       "      <td>42.0</td>\n",
       "      <td>Round</td>\n",
       "      <td>Circumscribed</td>\n",
       "      <td>Low</td>\n",
       "      <td>0</td>\n",
       "      <td>(33.6, 49.2]</td>\n",
       "    </tr>\n",
       "    <tr>\n",
       "      <th>302</th>\n",
       "      <td>46.0</td>\n",
       "      <td>Oval</td>\n",
       "      <td>Circumscribed</td>\n",
       "      <td>Iso</td>\n",
       "      <td>0</td>\n",
       "      <td>(33.6, 49.2]</td>\n",
       "    </tr>\n",
       "    <tr>\n",
       "      <th>8</th>\n",
       "      <td>57.0</td>\n",
       "      <td>Round</td>\n",
       "      <td>Spiculated</td>\n",
       "      <td>Low</td>\n",
       "      <td>1</td>\n",
       "      <td>(49.2, 64.8]</td>\n",
       "    </tr>\n",
       "    <tr>\n",
       "      <th>886</th>\n",
       "      <td>50.0</td>\n",
       "      <td>Round</td>\n",
       "      <td>Circumscribed</td>\n",
       "      <td>Low</td>\n",
       "      <td>0</td>\n",
       "      <td>(49.2, 64.8]</td>\n",
       "    </tr>\n",
       "    <tr>\n",
       "      <th>654</th>\n",
       "      <td>68.0</td>\n",
       "      <td>Oval</td>\n",
       "      <td>Circumscribed</td>\n",
       "      <td>Low</td>\n",
       "      <td>0</td>\n",
       "      <td>(64.8, 80.4]</td>\n",
       "    </tr>\n",
       "    <tr>\n",
       "      <th>506</th>\n",
       "      <td>44.0</td>\n",
       "      <td>Lobular</td>\n",
       "      <td>ill-defined</td>\n",
       "      <td>Low</td>\n",
       "      <td>1</td>\n",
       "      <td>(33.6, 49.2]</td>\n",
       "    </tr>\n",
       "    <tr>\n",
       "      <th>818</th>\n",
       "      <td>42.0</td>\n",
       "      <td>Lobular</td>\n",
       "      <td>Circumscribed</td>\n",
       "      <td>Iso</td>\n",
       "      <td>0</td>\n",
       "      <td>(33.6, 49.2]</td>\n",
       "    </tr>\n",
       "    <tr>\n",
       "      <th>901</th>\n",
       "      <td>52.0</td>\n",
       "      <td>Irregular</td>\n",
       "      <td>ill-defined</td>\n",
       "      <td>Low</td>\n",
       "      <td>1</td>\n",
       "      <td>(49.2, 64.8]</td>\n",
       "    </tr>\n",
       "    <tr>\n",
       "      <th>935</th>\n",
       "      <td>71.0</td>\n",
       "      <td>Round</td>\n",
       "      <td>Circumscribed</td>\n",
       "      <td>Low</td>\n",
       "      <td>1</td>\n",
       "      <td>(64.8, 80.4]</td>\n",
       "    </tr>\n",
       "    <tr>\n",
       "      <th>96</th>\n",
       "      <td>40.0</td>\n",
       "      <td>Round</td>\n",
       "      <td>Circumscribed</td>\n",
       "      <td>Low</td>\n",
       "      <td>0</td>\n",
       "      <td>(33.6, 49.2]</td>\n",
       "    </tr>\n",
       "  </tbody>\n",
       "</table>\n",
       "</div>"
      ],
      "text/plain": [
       "      Age      Shape         Margin Density  Target       AgeBand\n",
       "919  42.0      Round  Circumscribed     Low       0  (33.6, 49.2]\n",
       "302  46.0       Oval  Circumscribed     Iso       0  (33.6, 49.2]\n",
       "8    57.0      Round     Spiculated     Low       1  (49.2, 64.8]\n",
       "886  50.0      Round  Circumscribed     Low       0  (49.2, 64.8]\n",
       "654  68.0       Oval  Circumscribed     Low       0  (64.8, 80.4]\n",
       "506  44.0    Lobular    ill-defined     Low       1  (33.6, 49.2]\n",
       "818  42.0    Lobular  Circumscribed     Iso       0  (33.6, 49.2]\n",
       "901  52.0  Irregular    ill-defined     Low       1  (49.2, 64.8]\n",
       "935  71.0      Round  Circumscribed     Low       1  (64.8, 80.4]\n",
       "96   40.0      Round  Circumscribed     Low       0  (33.6, 49.2]"
      ]
     },
     "execution_count": 55,
     "metadata": {},
     "output_type": "execute_result"
    }
   ],
   "source": [
    "temp_patient.sample(10)"
   ]
  },
  {
   "cell_type": "markdown",
   "metadata": {},
   "source": [
    "Tỷ lệ chuẩn đoán là u ác tính có quan hệ với độ tuổi, những người có tuổi càng cao tỷ lệ là u ác tính càng cao. Thực hiện chia dl theo từng đoạn\n",
    "- Từ 80 - 96 tuổi: Tỷ lệ là u ác tính (89%)\n",
    "- Từ 65 - 80 tuổi: Tỷ lệ là u ác tính (72%)\n",
    "- Từ 49 - 64 tuổi: Tỷ lệ là u ác tính (46%)\n",
    "- Từ 34 - 49 tuổi: Tỷ lệ là u ác tính (26%)\n",
    "- Từ 18 - 34 tuổi: Tỷ lệ là u ác tính (6%)\n",
    "---\n",
    "**Thay thế tuổi tuyệt đối của hành khách bằng khoảng mà tuổi thuộc vào:**\n",
    "- Từ 80 - 96 tuổi => Age = 4\n",
    "- Từ 65 - 80 tuổi => Age = 3\n",
    "- Từ 49 - 64 tuổi => Age = 2\n",
    "- Từ 34 - 49 tuổi => Age = 1\n",
    "- Từ 18 - 34 tuổi => Age = 0"
   ]
  },
  {
   "cell_type": "code",
   "execution_count": 56,
   "metadata": {},
   "outputs": [],
   "source": [
    "temp_patient.loc[(temp_patient['Age']>=18) & (temp_patient['Age']<34), 'Age'] = 0\n",
    "temp_patient.loc[(temp_patient['Age']>=34) & (temp_patient['Age']<49), 'Age'] = 1\n",
    "temp_patient.loc[(temp_patient['Age']>=49) & (temp_patient['Age']<64), 'Age'] = 2\n",
    "temp_patient.loc[(temp_patient['Age']>=64) & (temp_patient['Age']<80), 'Age'] = 3\n",
    "temp_patient.loc[(temp_patient['Age']>=80) & (temp_patient['Age']<96), 'Age'] = 4"
   ]
  },
  {
   "cell_type": "code",
   "execution_count": 57,
   "metadata": {},
   "outputs": [
    {
     "data": {
      "text/html": [
       "<div>\n",
       "<style scoped>\n",
       "    .dataframe tbody tr th:only-of-type {\n",
       "        vertical-align: middle;\n",
       "    }\n",
       "\n",
       "    .dataframe tbody tr th {\n",
       "        vertical-align: top;\n",
       "    }\n",
       "\n",
       "    .dataframe thead th {\n",
       "        text-align: right;\n",
       "    }\n",
       "</style>\n",
       "<table border=\"1\" class=\"dataframe\">\n",
       "  <thead>\n",
       "    <tr style=\"text-align: right;\">\n",
       "      <th></th>\n",
       "      <th>Age</th>\n",
       "      <th>Shape</th>\n",
       "      <th>Margin</th>\n",
       "      <th>Density</th>\n",
       "      <th>Target</th>\n",
       "      <th>AgeBand</th>\n",
       "    </tr>\n",
       "  </thead>\n",
       "  <tbody>\n",
       "    <tr>\n",
       "      <th>728</th>\n",
       "      <td>1.0</td>\n",
       "      <td>Oval</td>\n",
       "      <td>Circumscribed</td>\n",
       "      <td>Low</td>\n",
       "      <td>0</td>\n",
       "      <td>(33.6, 49.2]</td>\n",
       "    </tr>\n",
       "    <tr>\n",
       "      <th>52</th>\n",
       "      <td>0.0</td>\n",
       "      <td>Round</td>\n",
       "      <td>Circumscribed</td>\n",
       "      <td>Low</td>\n",
       "      <td>0</td>\n",
       "      <td>(17.922, 33.6]</td>\n",
       "    </tr>\n",
       "    <tr>\n",
       "      <th>81</th>\n",
       "      <td>1.0</td>\n",
       "      <td>Irregular</td>\n",
       "      <td>ill-defined</td>\n",
       "      <td>Iso</td>\n",
       "      <td>1</td>\n",
       "      <td>(33.6, 49.2]</td>\n",
       "    </tr>\n",
       "    <tr>\n",
       "      <th>782</th>\n",
       "      <td>2.0</td>\n",
       "      <td>Irregular</td>\n",
       "      <td>Spiculated</td>\n",
       "      <td>Low</td>\n",
       "      <td>1</td>\n",
       "      <td>(49.2, 64.8]</td>\n",
       "    </tr>\n",
       "    <tr>\n",
       "      <th>179</th>\n",
       "      <td>2.0</td>\n",
       "      <td>Irregular</td>\n",
       "      <td>ill-defined</td>\n",
       "      <td>Low</td>\n",
       "      <td>1</td>\n",
       "      <td>(33.6, 49.2]</td>\n",
       "    </tr>\n",
       "    <tr>\n",
       "      <th>677</th>\n",
       "      <td>2.0</td>\n",
       "      <td>Irregular</td>\n",
       "      <td>ill-defined</td>\n",
       "      <td>Low</td>\n",
       "      <td>1</td>\n",
       "      <td>(49.2, 64.8]</td>\n",
       "    </tr>\n",
       "    <tr>\n",
       "      <th>287</th>\n",
       "      <td>1.0</td>\n",
       "      <td>Irregular</td>\n",
       "      <td>Obscured</td>\n",
       "      <td>Low</td>\n",
       "      <td>0</td>\n",
       "      <td>(33.6, 49.2]</td>\n",
       "    </tr>\n",
       "    <tr>\n",
       "      <th>719</th>\n",
       "      <td>3.0</td>\n",
       "      <td>Round</td>\n",
       "      <td>Circumscribed</td>\n",
       "      <td>Low</td>\n",
       "      <td>0</td>\n",
       "      <td>(64.8, 80.4]</td>\n",
       "    </tr>\n",
       "    <tr>\n",
       "      <th>564</th>\n",
       "      <td>3.0</td>\n",
       "      <td>Round</td>\n",
       "      <td>ill-defined</td>\n",
       "      <td>Low</td>\n",
       "      <td>1</td>\n",
       "      <td>(64.8, 80.4]</td>\n",
       "    </tr>\n",
       "    <tr>\n",
       "      <th>141</th>\n",
       "      <td>2.0</td>\n",
       "      <td>Oval</td>\n",
       "      <td>Circumscribed</td>\n",
       "      <td>Low</td>\n",
       "      <td>0</td>\n",
       "      <td>(49.2, 64.8]</td>\n",
       "    </tr>\n",
       "  </tbody>\n",
       "</table>\n",
       "</div>"
      ],
      "text/plain": [
       "     Age      Shape         Margin Density  Target         AgeBand\n",
       "728  1.0       Oval  Circumscribed     Low       0    (33.6, 49.2]\n",
       "52   0.0      Round  Circumscribed     Low       0  (17.922, 33.6]\n",
       "81   1.0  Irregular    ill-defined     Iso       1    (33.6, 49.2]\n",
       "782  2.0  Irregular     Spiculated     Low       1    (49.2, 64.8]\n",
       "179  2.0  Irregular    ill-defined     Low       1    (33.6, 49.2]\n",
       "677  2.0  Irregular    ill-defined     Low       1    (49.2, 64.8]\n",
       "287  1.0  Irregular       Obscured     Low       0    (33.6, 49.2]\n",
       "719  3.0      Round  Circumscribed     Low       0    (64.8, 80.4]\n",
       "564  3.0      Round    ill-defined     Low       1    (64.8, 80.4]\n",
       "141  2.0       Oval  Circumscribed     Low       0    (49.2, 64.8]"
      ]
     },
     "execution_count": 57,
     "metadata": {},
     "output_type": "execute_result"
    }
   ],
   "source": [
    "temp_patient.sample(10)"
   ]
  },
  {
   "cell_type": "code",
   "execution_count": 58,
   "metadata": {},
   "outputs": [
    {
     "data": {
      "text/html": [
       "<div>\n",
       "<style scoped>\n",
       "    .dataframe tbody tr th:only-of-type {\n",
       "        vertical-align: middle;\n",
       "    }\n",
       "\n",
       "    .dataframe tbody tr th {\n",
       "        vertical-align: top;\n",
       "    }\n",
       "\n",
       "    .dataframe thead th {\n",
       "        text-align: right;\n",
       "    }\n",
       "</style>\n",
       "<table border=\"1\" class=\"dataframe\">\n",
       "  <thead>\n",
       "    <tr style=\"text-align: right;\">\n",
       "      <th></th>\n",
       "      <th>Age</th>\n",
       "      <th>Shape</th>\n",
       "      <th>Margin</th>\n",
       "      <th>Density</th>\n",
       "      <th>Target</th>\n",
       "      <th>AgeBand</th>\n",
       "    </tr>\n",
       "  </thead>\n",
       "  <tbody>\n",
       "    <tr>\n",
       "      <th>0</th>\n",
       "      <td>3</td>\n",
       "      <td>Lobular</td>\n",
       "      <td>Spiculated</td>\n",
       "      <td>Low</td>\n",
       "      <td>1</td>\n",
       "      <td>(64.8, 80.4]</td>\n",
       "    </tr>\n",
       "    <tr>\n",
       "      <th>1</th>\n",
       "      <td>1</td>\n",
       "      <td>Round</td>\n",
       "      <td>Circumscribed</td>\n",
       "      <td>Low</td>\n",
       "      <td>1</td>\n",
       "      <td>(33.6, 49.2]</td>\n",
       "    </tr>\n",
       "    <tr>\n",
       "      <th>2</th>\n",
       "      <td>2</td>\n",
       "      <td>Irregular</td>\n",
       "      <td>Spiculated</td>\n",
       "      <td>Low</td>\n",
       "      <td>1</td>\n",
       "      <td>(49.2, 64.8]</td>\n",
       "    </tr>\n",
       "    <tr>\n",
       "      <th>3</th>\n",
       "      <td>0</td>\n",
       "      <td>Round</td>\n",
       "      <td>Circumscribed</td>\n",
       "      <td>Low</td>\n",
       "      <td>0</td>\n",
       "      <td>(17.922, 33.6]</td>\n",
       "    </tr>\n",
       "    <tr>\n",
       "      <th>4</th>\n",
       "      <td>3</td>\n",
       "      <td>Round</td>\n",
       "      <td>Spiculated</td>\n",
       "      <td>Low</td>\n",
       "      <td>1</td>\n",
       "      <td>(64.8, 80.4]</td>\n",
       "    </tr>\n",
       "  </tbody>\n",
       "</table>\n",
       "</div>"
      ],
      "text/plain": [
       "   Age      Shape         Margin Density  Target         AgeBand\n",
       "0    3    Lobular     Spiculated     Low       1    (64.8, 80.4]\n",
       "1    1      Round  Circumscribed     Low       1    (33.6, 49.2]\n",
       "2    2  Irregular     Spiculated     Low       1    (49.2, 64.8]\n",
       "3    0      Round  Circumscribed     Low       0  (17.922, 33.6]\n",
       "4    3      Round     Spiculated     Low       1    (64.8, 80.4]"
      ]
     },
     "execution_count": 58,
     "metadata": {},
     "output_type": "execute_result"
    }
   ],
   "source": [
    "temp_patient['Age'] = temp_patient['Age'].astype(int)\n",
    "temp_patient.head()"
   ]
  },
  {
   "cell_type": "code",
   "execution_count": 59,
   "metadata": {},
   "outputs": [
    {
     "name": "stdout",
     "output_type": "stream",
     "text": [
      "<class 'pandas.core.frame.DataFrame'>\n",
      "RangeIndex: 961 entries, 0 to 960\n",
      "Data columns (total 6 columns):\n",
      " #   Column   Non-Null Count  Dtype   \n",
      "---  ------   --------------  -----   \n",
      " 0   Age      961 non-null    int32   \n",
      " 1   Shape    961 non-null    object  \n",
      " 2   Margin   961 non-null    object  \n",
      " 3   Density  961 non-null    object  \n",
      " 4   Target   961 non-null    int64   \n",
      " 5   AgeBand  961 non-null    category\n",
      "dtypes: category(1), int32(1), int64(1), object(3)\n",
      "memory usage: 35.1+ KB\n"
     ]
    }
   ],
   "source": [
    "temp_patient.info()"
   ]
  },
  {
   "cell_type": "markdown",
   "metadata": {},
   "source": [
    "#### d) Chuyển đổi dữ liệu dạng object -> int"
   ]
  },
  {
   "cell_type": "code",
   "execution_count": 60,
   "metadata": {},
   "outputs": [
    {
     "data": {
      "text/plain": [
       "Low               874\n",
       "Iso                59\n",
       "High               16\n",
       "Fat-containing     12\n",
       "Name: Density, dtype: int64"
      ]
     },
     "execution_count": 60,
     "metadata": {},
     "output_type": "execute_result"
    }
   ],
   "source": [
    "temp_patient[\"Density\"].value_counts()"
   ]
  },
  {
   "cell_type": "code",
   "execution_count": 61,
   "metadata": {},
   "outputs": [
    {
     "data": {
      "text/html": [
       "<div>\n",
       "<style scoped>\n",
       "    .dataframe tbody tr th:only-of-type {\n",
       "        vertical-align: middle;\n",
       "    }\n",
       "\n",
       "    .dataframe tbody tr th {\n",
       "        vertical-align: top;\n",
       "    }\n",
       "\n",
       "    .dataframe thead th {\n",
       "        text-align: right;\n",
       "    }\n",
       "</style>\n",
       "<table border=\"1\" class=\"dataframe\">\n",
       "  <thead>\n",
       "    <tr style=\"text-align: right;\">\n",
       "      <th></th>\n",
       "      <th>Age</th>\n",
       "      <th>Shape</th>\n",
       "      <th>Margin</th>\n",
       "      <th>Density</th>\n",
       "      <th>Target</th>\n",
       "      <th>AgeBand</th>\n",
       "    </tr>\n",
       "  </thead>\n",
       "  <tbody>\n",
       "    <tr>\n",
       "      <th>0</th>\n",
       "      <td>3</td>\n",
       "      <td>3</td>\n",
       "      <td>2</td>\n",
       "      <td>0</td>\n",
       "      <td>1</td>\n",
       "      <td>(64.8, 80.4]</td>\n",
       "    </tr>\n",
       "    <tr>\n",
       "      <th>1</th>\n",
       "      <td>1</td>\n",
       "      <td>1</td>\n",
       "      <td>0</td>\n",
       "      <td>0</td>\n",
       "      <td>1</td>\n",
       "      <td>(33.6, 49.2]</td>\n",
       "    </tr>\n",
       "    <tr>\n",
       "      <th>2</th>\n",
       "      <td>2</td>\n",
       "      <td>0</td>\n",
       "      <td>2</td>\n",
       "      <td>0</td>\n",
       "      <td>1</td>\n",
       "      <td>(49.2, 64.8]</td>\n",
       "    </tr>\n",
       "    <tr>\n",
       "      <th>3</th>\n",
       "      <td>0</td>\n",
       "      <td>1</td>\n",
       "      <td>0</td>\n",
       "      <td>0</td>\n",
       "      <td>0</td>\n",
       "      <td>(17.922, 33.6]</td>\n",
       "    </tr>\n",
       "    <tr>\n",
       "      <th>4</th>\n",
       "      <td>3</td>\n",
       "      <td>1</td>\n",
       "      <td>2</td>\n",
       "      <td>0</td>\n",
       "      <td>1</td>\n",
       "      <td>(64.8, 80.4]</td>\n",
       "    </tr>\n",
       "  </tbody>\n",
       "</table>\n",
       "</div>"
      ],
      "text/plain": [
       "   Age  Shape  Margin  Density  Target         AgeBand\n",
       "0    3      3       2        0       1    (64.8, 80.4]\n",
       "1    1      1       0        0       1    (33.6, 49.2]\n",
       "2    2      0       2        0       1    (49.2, 64.8]\n",
       "3    0      1       0        0       0  (17.922, 33.6]\n",
       "4    3      1       2        0       1    (64.8, 80.4]"
      ]
     },
     "execution_count": 61,
     "metadata": {},
     "output_type": "execute_result"
    }
   ],
   "source": [
    "shape = {'Irregular': 0,\n",
    "        'Round': 1,\n",
    "        'Oval': 2,\n",
    "        'Lobular':3}\n",
    "margin = {'Circumscribed':0,\n",
    "         'ill-defined':1,\n",
    "         'Spiculated':2,\n",
    "         'Obscured':3,\n",
    "         'Microlobulated':4}\n",
    "density = {'Low':0,\n",
    "          'Iso':1,\n",
    "          'High':2,\n",
    "          'Fat-containing':3}\n",
    "\n",
    "temp_patient['Shape'] = temp_patient['Shape'].map(shape).astype(int)\n",
    "temp_patient['Margin'] = temp_patient['Margin'].map(margin).astype(int)\n",
    "temp_patient['Density'] = temp_patient['Density'].map(density).astype(int)\n",
    "\n",
    "temp_patient.head()"
   ]
  },
  {
   "cell_type": "markdown",
   "metadata": {},
   "source": [
    "Do cột AgeBand k cần thiết nên xóa đi"
   ]
  },
  {
   "cell_type": "code",
   "execution_count": 62,
   "metadata": {},
   "outputs": [
    {
     "name": "stdout",
     "output_type": "stream",
     "text": [
      "<class 'pandas.core.frame.DataFrame'>\n",
      "RangeIndex: 961 entries, 0 to 960\n",
      "Data columns (total 5 columns):\n",
      " #   Column   Non-Null Count  Dtype\n",
      "---  ------   --------------  -----\n",
      " 0   Age      961 non-null    int32\n",
      " 1   Shape    961 non-null    int32\n",
      " 2   Margin   961 non-null    int32\n",
      " 3   Density  961 non-null    int32\n",
      " 4   Target   961 non-null    int64\n",
      "dtypes: int32(4), int64(1)\n",
      "memory usage: 22.6 KB\n"
     ]
    }
   ],
   "source": [
    "temp_patient.drop(['AgeBand'],axis=1,inplace=True)\n",
    "temp_patient.info()"
   ]
  },
  {
   "cell_type": "code",
   "execution_count": 63,
   "metadata": {},
   "outputs": [
    {
     "data": {
      "text/html": [
       "<div>\n",
       "<style scoped>\n",
       "    .dataframe tbody tr th:only-of-type {\n",
       "        vertical-align: middle;\n",
       "    }\n",
       "\n",
       "    .dataframe tbody tr th {\n",
       "        vertical-align: top;\n",
       "    }\n",
       "\n",
       "    .dataframe thead th {\n",
       "        text-align: right;\n",
       "    }\n",
       "</style>\n",
       "<table border=\"1\" class=\"dataframe\">\n",
       "  <thead>\n",
       "    <tr style=\"text-align: right;\">\n",
       "      <th></th>\n",
       "      <th>Age</th>\n",
       "      <th>Shape</th>\n",
       "      <th>Margin</th>\n",
       "      <th>Density</th>\n",
       "      <th>Target</th>\n",
       "    </tr>\n",
       "  </thead>\n",
       "  <tbody>\n",
       "    <tr>\n",
       "      <th>747</th>\n",
       "      <td>2</td>\n",
       "      <td>2</td>\n",
       "      <td>0</td>\n",
       "      <td>0</td>\n",
       "      <td>0</td>\n",
       "    </tr>\n",
       "    <tr>\n",
       "      <th>678</th>\n",
       "      <td>2</td>\n",
       "      <td>1</td>\n",
       "      <td>0</td>\n",
       "      <td>0</td>\n",
       "      <td>1</td>\n",
       "    </tr>\n",
       "    <tr>\n",
       "      <th>957</th>\n",
       "      <td>2</td>\n",
       "      <td>0</td>\n",
       "      <td>2</td>\n",
       "      <td>0</td>\n",
       "      <td>1</td>\n",
       "    </tr>\n",
       "    <tr>\n",
       "      <th>98</th>\n",
       "      <td>2</td>\n",
       "      <td>0</td>\n",
       "      <td>1</td>\n",
       "      <td>0</td>\n",
       "      <td>0</td>\n",
       "    </tr>\n",
       "    <tr>\n",
       "      <th>73</th>\n",
       "      <td>3</td>\n",
       "      <td>0</td>\n",
       "      <td>1</td>\n",
       "      <td>0</td>\n",
       "      <td>1</td>\n",
       "    </tr>\n",
       "    <tr>\n",
       "      <th>744</th>\n",
       "      <td>0</td>\n",
       "      <td>2</td>\n",
       "      <td>0</td>\n",
       "      <td>0</td>\n",
       "      <td>0</td>\n",
       "    </tr>\n",
       "    <tr>\n",
       "      <th>26</th>\n",
       "      <td>3</td>\n",
       "      <td>1</td>\n",
       "      <td>0</td>\n",
       "      <td>0</td>\n",
       "      <td>0</td>\n",
       "    </tr>\n",
       "    <tr>\n",
       "      <th>109</th>\n",
       "      <td>0</td>\n",
       "      <td>0</td>\n",
       "      <td>1</td>\n",
       "      <td>0</td>\n",
       "      <td>1</td>\n",
       "    </tr>\n",
       "    <tr>\n",
       "      <th>920</th>\n",
       "      <td>1</td>\n",
       "      <td>2</td>\n",
       "      <td>0</td>\n",
       "      <td>0</td>\n",
       "      <td>0</td>\n",
       "    </tr>\n",
       "    <tr>\n",
       "      <th>430</th>\n",
       "      <td>1</td>\n",
       "      <td>1</td>\n",
       "      <td>0</td>\n",
       "      <td>0</td>\n",
       "      <td>0</td>\n",
       "    </tr>\n",
       "  </tbody>\n",
       "</table>\n",
       "</div>"
      ],
      "text/plain": [
       "     Age  Shape  Margin  Density  Target\n",
       "747    2      2       0        0       0\n",
       "678    2      1       0        0       1\n",
       "957    2      0       2        0       1\n",
       "98     2      0       1        0       0\n",
       "73     3      0       1        0       1\n",
       "744    0      2       0        0       0\n",
       "26     3      1       0        0       0\n",
       "109    0      0       1        0       1\n",
       "920    1      2       0        0       0\n",
       "430    1      1       0        0       0"
      ]
     },
     "execution_count": 63,
     "metadata": {},
     "output_type": "execute_result"
    }
   ],
   "source": [
    "temp_patient.sample(10)"
   ]
  },
  {
   "cell_type": "code",
   "execution_count": 64,
   "metadata": {},
   "outputs": [
    {
     "name": "stdout",
     "output_type": "stream",
     "text": [
      "Đã lưu file vừa xử lý thành công!\n"
     ]
    }
   ],
   "source": [
    "#Lưu file dữ liệu đã được xử lý xong\n",
    "temp_patient.to_csv('Data/Data_Practice4_ok.csv')\n",
    "print('Đã lưu file vừa xử lý thành công!')"
   ]
  },
  {
   "cell_type": "markdown",
   "metadata": {},
   "source": [
    "### 1. Bài toán học máy\n"
   ]
  },
  {
   "cell_type": "markdown",
   "metadata": {},
   "source": [
    "### 2. Xác định biến\n",
    "---\n",
    "**Xác định biến đầu vào (X) | biến đầu ra (y)**\n",
    "- Biến đầu vào - Biến độc lập (X): 4 - Age; Shape; Margin; Density\n",
    "- Biến đầu ra - Biến phụ thuộc (y): 01 - Target"
   ]
  },
  {
   "cell_type": "code",
   "execution_count": 65,
   "metadata": {},
   "outputs": [
    {
     "data": {
      "text/html": [
       "<div>\n",
       "<style scoped>\n",
       "    .dataframe tbody tr th:only-of-type {\n",
       "        vertical-align: middle;\n",
       "    }\n",
       "\n",
       "    .dataframe tbody tr th {\n",
       "        vertical-align: top;\n",
       "    }\n",
       "\n",
       "    .dataframe thead th {\n",
       "        text-align: right;\n",
       "    }\n",
       "</style>\n",
       "<table border=\"1\" class=\"dataframe\">\n",
       "  <thead>\n",
       "    <tr style=\"text-align: right;\">\n",
       "      <th></th>\n",
       "      <th>Age</th>\n",
       "      <th>Shape</th>\n",
       "      <th>Margin</th>\n",
       "      <th>Density</th>\n",
       "      <th>Target</th>\n",
       "    </tr>\n",
       "  </thead>\n",
       "  <tbody>\n",
       "    <tr>\n",
       "      <th>0</th>\n",
       "      <td>67.0</td>\n",
       "      <td>Lobular</td>\n",
       "      <td>Spiculated</td>\n",
       "      <td>Low</td>\n",
       "      <td>1</td>\n",
       "    </tr>\n",
       "    <tr>\n",
       "      <th>1</th>\n",
       "      <td>43.0</td>\n",
       "      <td>Round</td>\n",
       "      <td>Circumscribed</td>\n",
       "      <td>Low</td>\n",
       "      <td>1</td>\n",
       "    </tr>\n",
       "    <tr>\n",
       "      <th>2</th>\n",
       "      <td>58.0</td>\n",
       "      <td>Irregular</td>\n",
       "      <td>Spiculated</td>\n",
       "      <td>Low</td>\n",
       "      <td>1</td>\n",
       "    </tr>\n",
       "    <tr>\n",
       "      <th>3</th>\n",
       "      <td>28.0</td>\n",
       "      <td>Round</td>\n",
       "      <td>Circumscribed</td>\n",
       "      <td>Low</td>\n",
       "      <td>0</td>\n",
       "    </tr>\n",
       "    <tr>\n",
       "      <th>4</th>\n",
       "      <td>74.0</td>\n",
       "      <td>Round</td>\n",
       "      <td>Spiculated</td>\n",
       "      <td>Low</td>\n",
       "      <td>1</td>\n",
       "    </tr>\n",
       "  </tbody>\n",
       "</table>\n",
       "</div>"
      ],
      "text/plain": [
       "    Age      Shape         Margin Density  Target\n",
       "0  67.0    Lobular     Spiculated     Low       1\n",
       "1  43.0      Round  Circumscribed     Low       1\n",
       "2  58.0  Irregular     Spiculated     Low       1\n",
       "3  28.0      Round  Circumscribed     Low       0\n",
       "4  74.0      Round     Spiculated     Low       1"
      ]
     },
     "execution_count": 65,
     "metadata": {},
     "output_type": "execute_result"
    }
   ],
   "source": [
    "df_patient.head()"
   ]
  },
  {
   "cell_type": "code",
   "execution_count": 66,
   "metadata": {},
   "outputs": [
    {
     "data": {
      "text/plain": [
       "array([1, 0], dtype=int64)"
      ]
     },
     "execution_count": 66,
     "metadata": {},
     "output_type": "execute_result"
    }
   ],
   "source": [
    "#Các giá trị khác nhau của biến y\n",
    "df_patient['Target'].unique()"
   ]
  },
  {
   "cell_type": "code",
   "execution_count": 67,
   "metadata": {},
   "outputs": [
    {
     "data": {
      "text/plain": [
       "0    516\n",
       "1    445\n",
       "Name: Target, dtype: int64"
      ]
     },
     "execution_count": 67,
     "metadata": {},
     "output_type": "execute_result"
    }
   ],
   "source": [
    "#Thống kê số lượng theo từng lớp (giá trị)\n",
    "df_patient['Target'].value_counts()"
   ]
  },
  {
   "cell_type": "markdown",
   "metadata": {},
   "source": [
    "**Nhận xét biến phụ thuộc:** Biến phụ thuộc (y) có hai giá trị (0|1) \n",
    "\n",
    "=> Nhãn (y) đếm được -> hữu hạn\n",
    "\n",
    "=> Học có giám sát -> Phân lớp -> Phân lớp nhị phân"
   ]
  },
  {
   "cell_type": "markdown",
   "metadata": {},
   "source": [
    "### Phần bài tập chương 3"
   ]
  },
  {
   "cell_type": "code",
   "execution_count": 68,
   "metadata": {},
   "outputs": [
    {
     "name": "stdout",
     "output_type": "stream",
     "text": [
      "<class 'pandas.core.frame.DataFrame'>\n",
      "RangeIndex: 961 entries, 0 to 960\n",
      "Data columns (total 6 columns):\n",
      " #   Column      Non-Null Count  Dtype\n",
      "---  ------      --------------  -----\n",
      " 0   Unnamed: 0  961 non-null    int64\n",
      " 1   Age         961 non-null    int64\n",
      " 2   Shape       961 non-null    int64\n",
      " 3   Margin      961 non-null    int64\n",
      " 4   Density     961 non-null    int64\n",
      " 5   Target      961 non-null    int64\n",
      "dtypes: int64(6)\n",
      "memory usage: 45.2 KB\n"
     ]
    }
   ],
   "source": [
    "df_ungthu = pd.read_csv(\"Data/Data_Practice4_ok.csv\")\n",
    "df_ungthu.info()"
   ]
  },
  {
   "cell_type": "markdown",
   "metadata": {},
   "source": [
    "### 1. Tách đầu vào X - Nhãn y"
   ]
  },
  {
   "cell_type": "code",
   "execution_count": 70,
   "metadata": {},
   "outputs": [
    {
     "data": {
      "text/plain": [
       "Index(['Unnamed: 0', 'Age', 'Shape', 'Margin', 'Density', 'Target'], dtype='object')"
      ]
     },
     "execution_count": 70,
     "metadata": {},
     "output_type": "execute_result"
    }
   ],
   "source": [
    "df_ungthu.columns"
   ]
  },
  {
   "cell_type": "code",
   "execution_count": 91,
   "metadata": {},
   "outputs": [
    {
     "data": {
      "text/plain": [
       "(961, 4)"
      ]
     },
     "execution_count": 91,
     "metadata": {},
     "output_type": "execute_result"
    }
   ],
   "source": [
    "#Tách dữ liệu biến độc lập (X)\n",
    "X_ungthu = df_ungthu.loc[:,['Age','Shape','Margin','Density']].values\n",
    "X_ungthu.shape"
   ]
  },
  {
   "cell_type": "code",
   "execution_count": 90,
   "metadata": {},
   "outputs": [
    {
     "data": {
      "text/plain": [
       "(961,)"
      ]
     },
     "execution_count": 90,
     "metadata": {},
     "output_type": "execute_result"
    }
   ],
   "source": [
    "#Tách biến phụ thuộc (y)\n",
    "y_ungthu = df_ungthu.iloc[:,-1].values\n",
    "y_ungthu.shape"
   ]
  },
  {
   "cell_type": "markdown",
   "metadata": {},
   "source": [
    "### 2. Tách tập dữ liệu train - test"
   ]
  },
  {
   "cell_type": "code",
   "execution_count": 92,
   "metadata": {},
   "outputs": [
    {
     "name": "stdout",
     "output_type": "stream",
     "text": [
      "1. Kích thước tập Training: 720\n",
      "2. Kích thước tập Test    : 241\n"
     ]
    }
   ],
   "source": [
    "from sklearn.model_selection import train_test_split\n",
    "X_train, X_test, y_train, y_test = train_test_split(X_ungthu,\n",
    "                                                   y_ungthu,\n",
    "                                                   test_size=0.25,\n",
    "                                                   shuffle=True,\n",
    "                                                   random_state=42)\n",
    "\n",
    "\n",
    "print(\"1. Kích thước tập Training: %d\" %len(y_train))\n",
    "print(\"2. Kích thước tập Test    : %d\" %len(y_test))"
   ]
  },
  {
   "cell_type": "markdown",
   "metadata": {},
   "source": [
    "### 3. Xây dựng mô hình"
   ]
  },
  {
   "cell_type": "code",
   "execution_count": 81,
   "metadata": {},
   "outputs": [],
   "source": [
    "from sklearn.neighbors import KNeighborsClassifier\n",
    "from sklearn.metrics import accuracy_score\n",
    "\n",
    "#Khai báo model KNN, với các tham số mặc định\n",
    "KNN_ungthu = KNeighborsClassifier(n_neighbors=5)"
   ]
  },
  {
   "cell_type": "code",
   "execution_count": 82,
   "metadata": {},
   "outputs": [
    {
     "data": {
      "text/plain": [
       "{'algorithm': 'auto',\n",
       " 'leaf_size': 30,\n",
       " 'metric': 'minkowski',\n",
       " 'metric_params': None,\n",
       " 'n_jobs': None,\n",
       " 'n_neighbors': 5,\n",
       " 'p': 2,\n",
       " 'weights': 'uniform'}"
      ]
     },
     "execution_count": 82,
     "metadata": {},
     "output_type": "execute_result"
    }
   ],
   "source": [
    "#Danh sách tham số của mô hình:\n",
    "KNN_ungthu.get_params()"
   ]
  },
  {
   "cell_type": "markdown",
   "metadata": {},
   "source": [
    "### 4.Huấn luyện mô hình\n"
   ]
  },
  {
   "cell_type": "code",
   "execution_count": 93,
   "metadata": {},
   "outputs": [
    {
     "data": {
      "text/html": [
       "<style>#sk-container-id-2 {color: black;background-color: white;}#sk-container-id-2 pre{padding: 0;}#sk-container-id-2 div.sk-toggleable {background-color: white;}#sk-container-id-2 label.sk-toggleable__label {cursor: pointer;display: block;width: 100%;margin-bottom: 0;padding: 0.3em;box-sizing: border-box;text-align: center;}#sk-container-id-2 label.sk-toggleable__label-arrow:before {content: \"▸\";float: left;margin-right: 0.25em;color: #696969;}#sk-container-id-2 label.sk-toggleable__label-arrow:hover:before {color: black;}#sk-container-id-2 div.sk-estimator:hover label.sk-toggleable__label-arrow:before {color: black;}#sk-container-id-2 div.sk-toggleable__content {max-height: 0;max-width: 0;overflow: hidden;text-align: left;background-color: #f0f8ff;}#sk-container-id-2 div.sk-toggleable__content pre {margin: 0.2em;color: black;border-radius: 0.25em;background-color: #f0f8ff;}#sk-container-id-2 input.sk-toggleable__control:checked~div.sk-toggleable__content {max-height: 200px;max-width: 100%;overflow: auto;}#sk-container-id-2 input.sk-toggleable__control:checked~label.sk-toggleable__label-arrow:before {content: \"▾\";}#sk-container-id-2 div.sk-estimator input.sk-toggleable__control:checked~label.sk-toggleable__label {background-color: #d4ebff;}#sk-container-id-2 div.sk-label input.sk-toggleable__control:checked~label.sk-toggleable__label {background-color: #d4ebff;}#sk-container-id-2 input.sk-hidden--visually {border: 0;clip: rect(1px 1px 1px 1px);clip: rect(1px, 1px, 1px, 1px);height: 1px;margin: -1px;overflow: hidden;padding: 0;position: absolute;width: 1px;}#sk-container-id-2 div.sk-estimator {font-family: monospace;background-color: #f0f8ff;border: 1px dotted black;border-radius: 0.25em;box-sizing: border-box;margin-bottom: 0.5em;}#sk-container-id-2 div.sk-estimator:hover {background-color: #d4ebff;}#sk-container-id-2 div.sk-parallel-item::after {content: \"\";width: 100%;border-bottom: 1px solid gray;flex-grow: 1;}#sk-container-id-2 div.sk-label:hover label.sk-toggleable__label {background-color: #d4ebff;}#sk-container-id-2 div.sk-serial::before {content: \"\";position: absolute;border-left: 1px solid gray;box-sizing: border-box;top: 0;bottom: 0;left: 50%;z-index: 0;}#sk-container-id-2 div.sk-serial {display: flex;flex-direction: column;align-items: center;background-color: white;padding-right: 0.2em;padding-left: 0.2em;position: relative;}#sk-container-id-2 div.sk-item {position: relative;z-index: 1;}#sk-container-id-2 div.sk-parallel {display: flex;align-items: stretch;justify-content: center;background-color: white;position: relative;}#sk-container-id-2 div.sk-item::before, #sk-container-id-2 div.sk-parallel-item::before {content: \"\";position: absolute;border-left: 1px solid gray;box-sizing: border-box;top: 0;bottom: 0;left: 50%;z-index: -1;}#sk-container-id-2 div.sk-parallel-item {display: flex;flex-direction: column;z-index: 1;position: relative;background-color: white;}#sk-container-id-2 div.sk-parallel-item:first-child::after {align-self: flex-end;width: 50%;}#sk-container-id-2 div.sk-parallel-item:last-child::after {align-self: flex-start;width: 50%;}#sk-container-id-2 div.sk-parallel-item:only-child::after {width: 0;}#sk-container-id-2 div.sk-dashed-wrapped {border: 1px dashed gray;margin: 0 0.4em 0.5em 0.4em;box-sizing: border-box;padding-bottom: 0.4em;background-color: white;}#sk-container-id-2 div.sk-label label {font-family: monospace;font-weight: bold;display: inline-block;line-height: 1.2em;}#sk-container-id-2 div.sk-label-container {text-align: center;}#sk-container-id-2 div.sk-container {/* jupyter's `normalize.less` sets `[hidden] { display: none; }` but bootstrap.min.css set `[hidden] { display: none !important; }` so we also need the `!important` here to be able to override the default hidden behavior on the sphinx rendered scikit-learn.org. See: https://github.com/scikit-learn/scikit-learn/issues/21755 */display: inline-block !important;position: relative;}#sk-container-id-2 div.sk-text-repr-fallback {display: none;}</style><div id=\"sk-container-id-2\" class=\"sk-top-container\"><div class=\"sk-text-repr-fallback\"><pre>KNeighborsClassifier()</pre><b>In a Jupyter environment, please rerun this cell to show the HTML representation or trust the notebook. <br />On GitHub, the HTML representation is unable to render, please try loading this page with nbviewer.org.</b></div><div class=\"sk-container\" hidden><div class=\"sk-item\"><div class=\"sk-estimator sk-toggleable\"><input class=\"sk-toggleable__control sk-hidden--visually\" id=\"sk-estimator-id-2\" type=\"checkbox\" checked><label for=\"sk-estimator-id-2\" class=\"sk-toggleable__label sk-toggleable__label-arrow\">KNeighborsClassifier</label><div class=\"sk-toggleable__content\"><pre>KNeighborsClassifier()</pre></div></div></div></div></div>"
      ],
      "text/plain": [
       "KNeighborsClassifier()"
      ]
     },
     "execution_count": 93,
     "metadata": {},
     "output_type": "execute_result"
    }
   ],
   "source": [
    "#Thực hiện huấn luyện model\n",
    "KNN_ungthu.fit(X_train,y_train)"
   ]
  },
  {
   "cell_type": "code",
   "execution_count": 94,
   "metadata": {},
   "outputs": [
    {
     "name": "stdout",
     "output_type": "stream",
     "text": [
      "Độ chính xác của mô hình trên tập dữ liệu huấn luyện: 80.83\n"
     ]
    }
   ],
   "source": [
    "#Độ chính xác của model huấn luyện\n",
    "kq_train = KNN_ungthu.score(X_train,y_train)\n",
    "print('Độ chính xác của mô hình trên tập dữ liệu huấn luyện:', round(kq_train*100,2))"
   ]
  },
  {
   "cell_type": "markdown",
   "metadata": {},
   "source": [
    "### 5. Đánh giá độ chính xác của mô hình trên tập test"
   ]
  },
  {
   "cell_type": "code",
   "execution_count": 100,
   "metadata": {},
   "outputs": [
    {
     "name": "stdout",
     "output_type": "stream",
     "text": [
      "Kết quả dự đoán bệnh nhân bị ung thư hay không trên tập dữ liệu TEST:\n",
      "Kết quả cho 10 bệnh nhân đầu tiên:\n",
      "Kết quả dự đoán:                   [0 1 1 0 1 1 0 0 1 1]\n",
      "Kết quả thực tế của bệnh nhân   :  [0 1 1 0 0 0 0 0 1 0]\n"
     ]
    }
   ],
   "source": [
    "#Sử dụng mô hình huấn luyện dự đoán trên tập dữ liệu Test\n",
    "y_pred = KNN_ungthu.predict(X_test)\n",
    "\n",
    "print(\"Kết quả dự đoán bệnh nhân bị ung thư hay không trên tập dữ liệu TEST:\")\n",
    "print(\"Kết quả cho 10 bệnh nhân đầu tiên:\")\n",
    "print(\"Kết quả dự đoán:                  \", y_pred[:10])\n",
    "print(\"Kết quả thực tế của bệnh nhân   : \", y_test[:10])"
   ]
  },
  {
   "cell_type": "code",
   "execution_count": 101,
   "metadata": {},
   "outputs": [
    {
     "name": "stdout",
     "output_type": "stream",
     "text": [
      "Tổng số mẫu dự đoán đúng: 196  / 241\n"
     ]
    }
   ],
   "source": [
    "#1.Đếm số mẫu dự đoán đúng:\n",
    "sl_dung = accuracy_score(y_test, y_pred, \n",
    "                       normalize=False)\n",
    "print('Tổng số mẫu dự đoán đúng:', sl_dung, ' /', len(y_test))"
   ]
  },
  {
   "cell_type": "code",
   "execution_count": 103,
   "metadata": {},
   "outputs": [
    {
     "name": "stdout",
     "output_type": "stream",
     "text": [
      "Độ chính xác của mô hình(k=11, weights=distance): 0.8132780082987552\n",
      "Độ chính xác theo %: 81.33\n"
     ]
    }
   ],
   "source": [
    "#2.Tính độ chính xác %:\n",
    "tyle_dung = accuracy_score(y_test, y_pred,\n",
    "                       normalize=True)\n",
    "\n",
    "print('Độ chính xác của mô hình(k=11, weights=distance):', tyle_dung)\n",
    "print('Độ chính xác theo %:', round(tyle_dung*100,2))"
   ]
  },
  {
   "cell_type": "code",
   "execution_count": 104,
   "metadata": {},
   "outputs": [
    {
     "name": "stdout",
     "output_type": "stream",
     "text": [
      "Confusion matrix - UNGTHU:\n",
      "[[101  27]\n",
      " [ 18  95]]\n"
     ]
    },
    {
     "data": {
      "image/png": "[encoded data removed]",
      "text/plain": [
       "<Figure size 640x480 with 2 Axes>"
      ]
     },
     "metadata": {},
     "output_type": "display_data"
    }
   ],
   "source": [
    "#3.Sử dụng ma trận confussion matrix kiểm tra kết quả:\n",
    "from sklearn.metrics import confusion_matrix, ConfusionMatrixDisplay\n",
    "cnf_matrix_titanic = confusion_matrix(y_test,y_pred)\n",
    "print('Confusion matrix - UNGTHU:')\n",
    "print(cnf_matrix_titanic)\n",
    "ConfusionMatrixDisplay.from_predictions(y_test, y_pred)\n",
    "plt.show()"
   ]
  },
  {
   "cell_type": "code",
   "execution_count": 136,
   "metadata": {},
   "outputs": [
    {
     "data": {
      "text/plain": [
       "{'algorithm': 'ball_tree',\n",
       " 'leaf_size': 30,\n",
       " 'metric': 'minkowski',\n",
       " 'metric_params': None,\n",
       " 'n_jobs': None,\n",
       " 'n_neighbors': 9,\n",
       " 'p': 1,\n",
       " 'weights': 'distance'}"
      ]
     },
     "execution_count": 136,
     "metadata": {},
     "output_type": "execute_result"
    }
   ],
   "source": [
    "# Khai bảo mô hình mới bằng cách Thay đổi tham số n_neighbors, weights:\n",
    "KNN_ungthu2 = KNeighborsClassifier(n_neighbors=9,\n",
    "                                  p=1,\n",
    "                                  weights = 'distance',\n",
    "                                  algorithm='ball_tree')\n",
    "#Các tham số mới của Model:\n",
    "KNN_ungthu2.get_params()"
   ]
  },
  {
   "cell_type": "code",
   "execution_count": 137,
   "metadata": {},
   "outputs": [
    {
     "data": {
      "text/html": [
       "<style>#sk-container-id-7 {color: black;background-color: white;}#sk-container-id-7 pre{padding: 0;}#sk-container-id-7 div.sk-toggleable {background-color: white;}#sk-container-id-7 label.sk-toggleable__label {cursor: pointer;display: block;width: 100%;margin-bottom: 0;padding: 0.3em;box-sizing: border-box;text-align: center;}#sk-container-id-7 label.sk-toggleable__label-arrow:before {content: \"▸\";float: left;margin-right: 0.25em;color: #696969;}#sk-container-id-7 label.sk-toggleable__label-arrow:hover:before {color: black;}#sk-container-id-7 div.sk-estimator:hover label.sk-toggleable__label-arrow:before {color: black;}#sk-container-id-7 div.sk-toggleable__content {max-height: 0;max-width: 0;overflow: hidden;text-align: left;background-color: #f0f8ff;}#sk-container-id-7 div.sk-toggleable__content pre {margin: 0.2em;color: black;border-radius: 0.25em;background-color: #f0f8ff;}#sk-container-id-7 input.sk-toggleable__control:checked~div.sk-toggleable__content {max-height: 200px;max-width: 100%;overflow: auto;}#sk-container-id-7 input.sk-toggleable__control:checked~label.sk-toggleable__label-arrow:before {content: \"▾\";}#sk-container-id-7 div.sk-estimator input.sk-toggleable__control:checked~label.sk-toggleable__label {background-color: #d4ebff;}#sk-container-id-7 div.sk-label input.sk-toggleable__control:checked~label.sk-toggleable__label {background-color: #d4ebff;}#sk-container-id-7 input.sk-hidden--visually {border: 0;clip: rect(1px 1px 1px 1px);clip: rect(1px, 1px, 1px, 1px);height: 1px;margin: -1px;overflow: hidden;padding: 0;position: absolute;width: 1px;}#sk-container-id-7 div.sk-estimator {font-family: monospace;background-color: #f0f8ff;border: 1px dotted black;border-radius: 0.25em;box-sizing: border-box;margin-bottom: 0.5em;}#sk-container-id-7 div.sk-estimator:hover {background-color: #d4ebff;}#sk-container-id-7 div.sk-parallel-item::after {content: \"\";width: 100%;border-bottom: 1px solid gray;flex-grow: 1;}#sk-container-id-7 div.sk-label:hover label.sk-toggleable__label {background-color: #d4ebff;}#sk-container-id-7 div.sk-serial::before {content: \"\";position: absolute;border-left: 1px solid gray;box-sizing: border-box;top: 0;bottom: 0;left: 50%;z-index: 0;}#sk-container-id-7 div.sk-serial {display: flex;flex-direction: column;align-items: center;background-color: white;padding-right: 0.2em;padding-left: 0.2em;position: relative;}#sk-container-id-7 div.sk-item {position: relative;z-index: 1;}#sk-container-id-7 div.sk-parallel {display: flex;align-items: stretch;justify-content: center;background-color: white;position: relative;}#sk-container-id-7 div.sk-item::before, #sk-container-id-7 div.sk-parallel-item::before {content: \"\";position: absolute;border-left: 1px solid gray;box-sizing: border-box;top: 0;bottom: 0;left: 50%;z-index: -1;}#sk-container-id-7 div.sk-parallel-item {display: flex;flex-direction: column;z-index: 1;position: relative;background-color: white;}#sk-container-id-7 div.sk-parallel-item:first-child::after {align-self: flex-end;width: 50%;}#sk-container-id-7 div.sk-parallel-item:last-child::after {align-self: flex-start;width: 50%;}#sk-container-id-7 div.sk-parallel-item:only-child::after {width: 0;}#sk-container-id-7 div.sk-dashed-wrapped {border: 1px dashed gray;margin: 0 0.4em 0.5em 0.4em;box-sizing: border-box;padding-bottom: 0.4em;background-color: white;}#sk-container-id-7 div.sk-label label {font-family: monospace;font-weight: bold;display: inline-block;line-height: 1.2em;}#sk-container-id-7 div.sk-label-container {text-align: center;}#sk-container-id-7 div.sk-container {/* jupyter's `normalize.less` sets `[hidden] { display: none; }` but bootstrap.min.css set `[hidden] { display: none !important; }` so we also need the `!important` here to be able to override the default hidden behavior on the sphinx rendered scikit-learn.org. See: https://github.com/scikit-learn/scikit-learn/issues/21755 */display: inline-block !important;position: relative;}#sk-container-id-7 div.sk-text-repr-fallback {display: none;}</style><div id=\"sk-container-id-7\" class=\"sk-top-container\"><div class=\"sk-text-repr-fallback\"><pre>KNeighborsClassifier(algorithm=&#x27;ball_tree&#x27;, n_neighbors=9, p=1,\n",
       "                     weights=&#x27;distance&#x27;)</pre><b>In a Jupyter environment, please rerun this cell to show the HTML representation or trust the notebook. <br />On GitHub, the HTML representation is unable to render, please try loading this page with nbviewer.org.</b></div><div class=\"sk-container\" hidden><div class=\"sk-item\"><div class=\"sk-estimator sk-toggleable\"><input class=\"sk-toggleable__control sk-hidden--visually\" id=\"sk-estimator-id-7\" type=\"checkbox\" checked><label for=\"sk-estimator-id-7\" class=\"sk-toggleable__label sk-toggleable__label-arrow\">KNeighborsClassifier</label><div class=\"sk-toggleable__content\"><pre>KNeighborsClassifier(algorithm=&#x27;ball_tree&#x27;, n_neighbors=9, p=1,\n",
       "                     weights=&#x27;distance&#x27;)</pre></div></div></div></div></div>"
      ],
      "text/plain": [
       "KNeighborsClassifier(algorithm='ball_tree', n_neighbors=9, p=1,\n",
       "                     weights='distance')"
      ]
     },
     "execution_count": 137,
     "metadata": {},
     "output_type": "execute_result"
    }
   ],
   "source": [
    "#Thực hiện huấn luyện với dữ liệu tập train\n",
    "KNN_ungthu2.fit(X_train, y_train)"
   ]
  },
  {
   "cell_type": "code",
   "execution_count": 138,
   "metadata": {},
   "outputs": [
    {
     "name": "stdout",
     "output_type": "stream",
     "text": [
      "Độ chính xác trên tập huấn luyện: 83.19\n"
     ]
    }
   ],
   "source": [
    "#Độ chính xác của Model trên tập Huấn luyện\n",
    "y_pred2 = KNN_ungthu2.score(X_train,y_train)\n",
    "\n",
    "print('Độ chính xác trên tập huấn luyện:', round(y_pred2*100,2))"
   ]
  },
  {
   "cell_type": "code",
   "execution_count": 139,
   "metadata": {},
   "outputs": [
    {
     "name": "stdout",
     "output_type": "stream",
     "text": [
      "Kết quả dự đoán bệnh nhân bị ung thư hay không trên tập dữ liệu TEST:\n",
      "Kết quả cho 10 bệnh nhân đầu tiên:\n",
      "Kết quả dự đoán:                   [0 1 1 0 1 1 0 0 1 1]\n",
      "Kết quả thực tế của bệnh nhân   :  [0 1 1 0 0 0 0 0 1 0]\n"
     ]
    }
   ],
   "source": [
    "#Sử dụng mô hình huấn luyện dự đoán trên tập dữ liệu Test\n",
    "y_pred_test2 = KNN_ungthu2.predict(X_test)\n",
    "\n",
    "print(\"Kết quả dự đoán bệnh nhân bị ung thư hay không trên tập dữ liệu TEST:\")\n",
    "print(\"Kết quả cho 10 bệnh nhân đầu tiên:\")\n",
    "print(\"Kết quả dự đoán:                  \", y_pred_test2[:10])\n",
    "print(\"Kết quả thực tế của bệnh nhân   : \", y_test[:10])"
   ]
  },
  {
   "cell_type": "code",
   "execution_count": 140,
   "metadata": {},
   "outputs": [
    {
     "name": "stdout",
     "output_type": "stream",
     "text": [
      "Độ chính xác của mô hình(k=11, weights=distance): 0.8132780082987552\n",
      "Độ chính xác theo %: 81.33\n"
     ]
    }
   ],
   "source": [
    "#2.Tính độ chính xác % của kết quả dự đoán với kết quả tập test:\n",
    "tyle_kq2 = accuracy_score(y_test, y_pred_test2,\n",
    "                       normalize=True)\n",
    "\n",
    "print('Độ chính xác của mô hình(k=11, weights=distance):', tyle_kq2)\n",
    "print('Độ chính xác theo %:', round(tyle_kq2*100,2))"
   ]
  },
  {
   "cell_type": "code",
   "execution_count": 141,
   "metadata": {},
   "outputs": [
    {
     "name": "stdout",
     "output_type": "stream",
     "text": [
      "Confusion matrix - Titanic:\n",
      "[[104  24]\n",
      " [ 21  92]]\n"
     ]
    },
    {
     "data": {
      "image/png": "[encoded data removed]",
      "text/plain": [
       "<Figure size 640x480 with 2 Axes>"
      ]
     },
     "metadata": {},
     "output_type": "display_data"
    }
   ],
   "source": [
    "#3.Sử dụng ma trận confussion matrix kiểm tra kết quả:\n",
    "from sklearn.metrics import confusion_matrix, ConfusionMatrixDisplay\n",
    "cnf_matrix_titanic = confusion_matrix(y_test,y_pred_test2)\n",
    "print('Confusion matrix - Titanic:')\n",
    "print(cnf_matrix_titanic)\n",
    "ConfusionMatrixDisplay.from_predictions(y_test, y_pred_test2)\n",
    "plt.show()"
   ]
  },
  {
   "cell_type": "code",
   "execution_count": 143,
   "metadata": {},
   "outputs": [
    {
     "data": {
      "text/plain": [
       "array([[20,  1,  0,  0]])"
      ]
     },
     "execution_count": 143,
     "metadata": {},
     "output_type": "execute_result"
    }
   ],
   "source": [
    "age = 20\n",
    "shape = 1\n",
    "margin = 0\n",
    "density = 0\n",
    "bn = np.array([(age,shape,margin,density)])\n",
    "bn"
   ]
  },
  {
   "cell_type": "code",
   "execution_count": 144,
   "metadata": {},
   "outputs": [
    {
     "name": "stdout",
     "output_type": "stream",
     "text": [
      "kết quả của hành khách thứ nhất: [0]\n",
      "U của bạn là lành tính!\n"
     ]
    }
   ],
   "source": [
    "#Sử dụng mô hình để dự đoán:\n",
    "kq = KNN_ungthu2.predict(bn)\n",
    "print('kết quả của hành khách thứ nhất:', kq)\n",
    "if kq == 1:\n",
    "    print('Bạn bị u ác tính!')\n",
    "else:\n",
    "    print('U của bạn là lành tính!')"
   ]
  },
  {
   "cell_type": "code",
   "execution_count": null,
   "metadata": {},
   "outputs": [],
   "source": []
  }
 ],
 "metadata": {
  "colab": {
   "collapsed_sections": [
    "tv__XfRLHtBf",
    "Wx9ciaKgyTW5",
    "M7iLGnc4WMs3",
    "Mw03rdzH9GnV",
    "Q3teCO6P_PFX",
    "xuLa3WmifOb0",
    "5dVTHDxJv5JW"
   ],
   "name": "Project2_TitanicDisaster",
   "provenance": [],
   "toc_visible": true
  },
  "kernelspec": {
   "display_name": "Python 3 (ipykernel)",
   "language": "python",
   "name": "python3"
  },
  "language_info": {
   "codemirror_mode": {
    "name": "ipython",
    "version": 3
   },
   "file_extension": ".py",
   "mimetype": "text/x-python",
   "name": "python",
   "nbconvert_exporter": "python",
   "pygments_lexer": "ipython3",
   "version": "3.10.9"
  }
 },
 "nbformat": 4,
 "nbformat_minor": 1
}
